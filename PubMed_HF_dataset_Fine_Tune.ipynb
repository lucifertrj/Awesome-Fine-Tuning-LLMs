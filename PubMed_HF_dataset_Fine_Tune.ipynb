{
 "cells": [
  {
   "cell_type": "markdown",
   "metadata": {
    "id": "1WwQq5nR7nH4"
   },
   "source": [
    "## Medical Question-Answering - PubMed HuggingFace Dataset"
   ]
  },
  {
   "cell_type": "code",
   "execution_count": null,
   "metadata": {
    "id": "4eygJbkj6qH-"
   },
   "outputs": [],
   "source": [
    "!pip install transformers trl datasets peft accelerate bitsandbytes sentencepiece"
   ]
  },
  {
   "cell_type": "code",
   "execution_count": null,
   "metadata": {
    "id": "umImijAR6lVX"
   },
   "outputs": [],
   "source": [
    "import os\n",
    "import gc\n",
    "from datasets import load_dataset\n",
    "import torch\n",
    "import torch.nn as nn\n",
    "import bitsandbytes as bnb\n",
    "import transformers\n",
    "from transformers import AutoTokenizer, AutoConfig, AutoModelForCausalLM, TrainingArguments,BitsAndBytesConfig\n",
    "from peft import LoraConfig, PeftModel, get_peft_config\n",
    "from trl import SFTTrainer"
   ]
  },
  {
   "cell_type": "markdown",
   "metadata": {
    "id": "Fz8zWHTk9Ed4"
   },
   "source": [
    "## Load PubMed QA data"
   ]
  },
  {
   "cell_type": "code",
   "execution_count": null,
   "metadata": {
    "id": "wL_0hVqy9DR7"
   },
   "outputs": [],
   "source": [
    "data = load_dataset(\"pubmed_qa\",\"pqa_labeled\")"
   ]
  },
  {
   "cell_type": "code",
   "execution_count": null,
   "metadata": {
    "colab": {
     "base_uri": "https://localhost:8080/"
    },
    "id": "lII6kvPj-fpK",
    "outputId": "9b87f429-e666-4e64-cef4-e4f98c5dce8c"
   },
   "outputs": [
    {
     "data": {
      "text/plain": [
       "DatasetDict({\n",
       "    train: Dataset({\n",
       "        features: ['pubid', 'question', 'context', 'long_answer', 'final_decision'],\n",
       "        num_rows: 1000\n",
       "    })\n",
       "})"
      ]
     },
     "execution_count": 10,
     "metadata": {},
     "output_type": "execute_result"
    }
   ],
   "source": [
    "data"
   ]
  },
  {
   "cell_type": "code",
   "execution_count": null,
   "metadata": {
    "colab": {
     "base_uri": "https://localhost:8080/",
     "height": 36
    },
    "id": "4Gk5I4uP-jhj",
    "outputId": "fe1ff129-5d4c-4f80-e803-a0bbfda4b436"
   },
   "outputs": [
    {
     "data": {
      "application/vnd.google.colaboratory.intrinsic+json": {
       "type": "string"
      },
      "text/plain": [
       "'Do mitochondria play a role in remodelling lace plant leaves during programmed cell death?'"
      ]
     },
     "execution_count": 13,
     "metadata": {},
     "output_type": "execute_result"
    }
   ],
   "source": [
    "data['train']['question'][0]"
   ]
  },
  {
   "cell_type": "code",
   "execution_count": null,
   "metadata": {
    "colab": {
     "base_uri": "https://localhost:8080/",
     "height": 109
    },
    "id": "PZ8JIaOn5m3H",
    "outputId": "d8d15125-a620-45fe-fb9d-390f3b3bca70"
   },
   "outputs": [
    {
     "data": {
      "application/vnd.google.colaboratory.intrinsic+json": {
       "type": "string"
      },
      "text/plain": [
       "'Results depicted mitochondrial dynamics in vivo as PCD progresses within the lace plant, and highlight the correlation of this organelle with other organelles during developmental PCD. To the best of our knowledge, this is the first report of mitochondria and chloroplasts moving on transvacuolar strands to form a ring structure surrounding the nucleus during developmental PCD. Also, for the first time, we have shown the feasibility for the use of CsA in a whole plant system. Overall, our findings implicate the mitochondria as playing a critical and early role in developmentally regulated PCD in the lace plant.'"
      ]
     },
     "execution_count": 15,
     "metadata": {},
     "output_type": "execute_result"
    }
   ],
   "source": [
    "data['train']['long_answer'][0]"
   ]
  },
  {
   "cell_type": "code",
   "execution_count": null,
   "metadata": {
    "colab": {
     "base_uri": "https://localhost:8080/"
    },
    "id": "mITDoVcI-mfP",
    "outputId": "18137072-ad28-4135-ba0e-8d03f45ce921"
   },
   "outputs": [
    {
     "data": {
      "text/plain": [
       "{'contexts': ['Programmed cell death (PCD) is the regulated death of cells within an organism. The lace plant (Aponogeton madagascariensis) produces perforations in its leaves through PCD. The leaves of the plant consist of a latticework of longitudinal and transverse veins enclosing areoles. PCD occurs in the cells at the center of these areoles and progresses outwards, stopping approximately five cells from the vasculature. The role of mitochondria during PCD has been recognized in animals; however, it has been less studied during PCD in plants.',\n",
       "  'The following paper elucidates the role of mitochondrial dynamics during developmentally regulated PCD in vivo in A. madagascariensis. A single areole within a window stage leaf (PCD is occurring) was divided into three areas based on the progression of PCD; cells that will not undergo PCD (NPCD), cells in early stages of PCD (EPCD), and cells in late stages of PCD (LPCD). Window stage leaves were stained with the mitochondrial dye MitoTracker Red CMXRos and examined. Mitochondrial dynamics were delineated into four categories (M1-M4) based on characteristics including distribution, motility, and membrane potential (ΔΨm). A TUNEL assay showed fragmented nDNA in a gradient over these mitochondrial stages. Chloroplasts and transvacuolar strands were also examined using live cell imaging. The possible importance of mitochondrial permeability transition pore (PTP) formation during PCD was indirectly examined via in vivo cyclosporine A (CsA) treatment. This treatment resulted in lace plant leaves with a significantly lower number of perforations compared to controls, and that displayed mitochondrial dynamics similar to that of non-PCD cells.'],\n",
       " 'labels': ['BACKGROUND', 'RESULTS'],\n",
       " 'meshes': ['Alismataceae',\n",
       "  'Apoptosis',\n",
       "  'Cell Differentiation',\n",
       "  'Mitochondria',\n",
       "  'Plant Leaves'],\n",
       " 'reasoning_required_pred': ['y', 'e', 's'],\n",
       " 'reasoning_free_pred': ['y', 'e', 's']}"
      ]
     },
     "execution_count": 14,
     "metadata": {},
     "output_type": "execute_result"
    }
   ],
   "source": [
    "data['train']['context'][0]"
   ]
  },
  {
   "cell_type": "code",
   "execution_count": null,
   "metadata": {
    "id": "8cdVss2c_aQ_"
   },
   "outputs": [],
   "source": [
    "#hyperparameters\n",
    "LORA_ALPHA = 32\n",
    "LORA_DROPOUT = 0.2\n",
    "LORA_R = 4\n",
    "\n",
    "LEARNING_RATE = 2e-4\n",
    "NUM_EPOCHS = 1\n",
    "BATCH_SIZE = 1\n",
    "WEIGHT_DECAY = 0.001\n",
    "MAX_GRAD_NORM = 0.3\n",
    "gradient_accumulation_steps = 16\n",
    "STEPS = 1\n",
    "OPTIM = \"adam\"\n",
    "MAX_STEPS = 512\n",
    "OUTPUT_DIR = \"./results\""
   ]
  },
  {
   "cell_type": "markdown",
   "metadata": {
    "id": "xH6FUBw8mGPe"
   },
   "source": [
    "## Quantization configuration using Bitsandbytes"
   ]
  },
  {
   "cell_type": "code",
   "execution_count": null,
   "metadata": {
    "id": "bDCJfjSjCkrm"
   },
   "outputs": [],
   "source": [
    "bnb_config = BitsAndBytesConfig(\n",
    "        load_in_4bit=True,\n",
    "        bnb_4bit_use_double_quant=True,\n",
    "        bnb_4bit_quant_type=\"nf4\",\n",
    "        bnb_4bit_compute_dtype=torch.bfloat16\n",
    "    )\n",
    "torch.cuda.get_device_capability()\n",
    "device_map = \"cuda:0\""
   ]
  },
  {
   "cell_type": "markdown",
   "metadata": {
    "id": "DpzAfP-hEKsh"
   },
   "source": [
    "## Define model and tokenization"
   ]
  },
  {
   "cell_type": "code",
   "execution_count": null,
   "metadata": {
    "id": "vXQMo7rTCyBE"
   },
   "outputs": [],
   "source": [
    "model_name = \"nousresearch/llama-2-7b-chat-hf\""
   ]
  },
  {
   "cell_type": "code",
   "execution_count": null,
   "metadata": {
    "colab": {
     "base_uri": "https://localhost:8080/",
     "height": 49,
     "referenced_widgets": [
      "d02da09958464346aaac4931dd7bff43",
      "d68c40c526e24727970404138f6ba188",
      "e6ae410aa3a74cefb400882ebd3fa9bd",
      "df93a39da1044692adbfbca694ab0be9",
      "29eb91f2ed3b43838743b3363bd81b18",
      "015207e276e64efc898891c86c277539",
      "8a608f5bcb034d3bab88ef4e8b6df3db",
      "5c9f1162e64f4608a1c938c51c9c199a",
      "dacdad01725b404c9b82e18acec5a2d1",
      "ad6c8a528b104426945c2c50c180781d",
      "0196bac355a04836adceae46830be525"
     ]
    },
    "id": "k8a9VotICuyP",
    "outputId": "cc106e5e-d515-4569-e9d1-9a1350ce8084"
   },
   "outputs": [
    {
     "data": {
      "application/vnd.jupyter.widget-view+json": {
       "model_id": "d02da09958464346aaac4931dd7bff43",
       "version_major": 2,
       "version_minor": 0
      },
      "text/plain": [
       "Loading checkpoint shards:   0%|          | 0/2 [00:00<?, ?it/s]"
      ]
     },
     "metadata": {},
     "output_type": "display_data"
    }
   ],
   "source": [
    "model = AutoModelForCausalLM.from_pretrained(\n",
    "            model_name,\n",
    "            quantization_config=bnb_config,\n",
    "            device_map=device_map,\n",
    "        )\n",
    "model.config.pretraining_tp = 1"
   ]
  },
  {
   "cell_type": "code",
   "execution_count": null,
   "metadata": {
    "colab": {
     "base_uri": "https://localhost:8080/",
     "height": 177,
     "referenced_widgets": [
      "398ca22952dd48e8b1ed676de2b8829e",
      "427956df8ea345209fa7dbac12175dce",
      "70029d2b1f2d4f03bb9cccd0030b0ee7",
      "25e104f080a04cc094504591445acb70",
      "3740d9d26036445f94b0de16a1984e84",
      "c15f613b71e5456bbfe3c3dbe26eaa40",
      "90425237606049e4a3d4126e1e6fc0c3",
      "d9c1637ebe594d46b75dcc93738f31f5",
      "be9713dcf92949e3adb7b1d2a5ec1755",
      "11e686d485764ec498c74c017a2397b8",
      "0a5b193c7bab4b8394b3a86e37901675",
      "fb19b8f439654618a2dbf7856bbc1922",
      "fbefe339b2b046808cf5bd03470eae2f",
      "7d3de6d08445496aaebebb9d123157b8",
      "041c51f4844d461fa1eafffe00791ba7",
      "2af8529a7aef43aeb1bee786b0b1b5f0",
      "81b6d2542b8a4bcc8c74a158f2e3d968",
      "0a78676fa4634d60b407cc57d597dd0b",
      "8eddbbab7eaa4d5bb5af9381bb3abf83",
      "e34548960e784d668a570b0d8ee152c1",
      "83cf2b1b85164a1a8d232cab05c1c6ee",
      "4e4c8129604d434788e876491330195b",
      "d49c4a074b5b45f6ad6b5a99010eabf5",
      "9b0d409aba0447378506a0b097f1565b",
      "fe65375e50d74ed18fbbcb5a1d81f797",
      "7401e7ecc0114b3e9a136f41e2aee7b9",
      "9bcc5224b72f4821bdf23b18ac650ea0",
      "4e31f84f740445a29ef82790526121b1",
      "92f20d43ac674de38b51abf26c4e67e6",
      "19d33cc37de247d5a50b47d791eda29f",
      "458f37665c7f42179be3166812326475",
      "c9d1fe97cc494327b4e68c32644f5b87",
      "8f5451c875ec43f1bb6c811691a1bcee",
      "2f7d325102224784b803cbd659693c96",
      "2b873fe6b77e4b32bc95f96eda18b318",
      "73bba28ff27a4eecaaf99c0fe361d181",
      "455d014875fc445fb0b3c90a93eb414b",
      "13c47957d1e942a787466b5ea85d10d7",
      "273ede2c6ce94082a5b7b61a63e11771",
      "d93d04727f8d4504af6a836a8219d3d4",
      "79f9c6f9aae141f486c322fd695e387d",
      "86be0329b58a4ae88cc24d15ba461e48",
      "94575511f9314e0582bfb5f02bc65f7a",
      "922099d3b84247319f2020cf46067533",
      "404b151df8ee43d98a39e3c348993d3b",
      "a03375086a264d59976a2e5400539998",
      "6f7ba323e33a4082a4cfb14a0a08b6e8",
      "958ec92fb9ca4c46b52030c63c721a5e",
      "2b40eb62133b4159bb8590081abbe0ae",
      "fc55609cb32d4a069904d11737d81806",
      "8e2d70e71c534e0ea8f62194a534364a",
      "af9e8a8b297948f3be7cd4fd9e75b3d7",
      "b5f4e0e8b85b4db097769655a77828ee",
      "8444449e477a4affa75295fd4e514b6b",
      "1ce520d5117742d6a7bcadb1d8ce8f84"
     ]
    },
    "id": "xE2QopqwCu4g",
    "outputId": "c5c9ec1b-c5a1-4833-d88b-da17c2749291"
   },
   "outputs": [
    {
     "data": {
      "application/vnd.jupyter.widget-view+json": {
       "model_id": "398ca22952dd48e8b1ed676de2b8829e",
       "version_major": 2,
       "version_minor": 0
      },
      "text/plain": [
       "tokenizer_config.json:   0%|          | 0.00/746 [00:00<?, ?B/s]"
      ]
     },
     "metadata": {},
     "output_type": "display_data"
    },
    {
     "data": {
      "application/vnd.jupyter.widget-view+json": {
       "model_id": "fb19b8f439654618a2dbf7856bbc1922",
       "version_major": 2,
       "version_minor": 0
      },
      "text/plain": [
       "tokenizer.model:   0%|          | 0.00/500k [00:00<?, ?B/s]"
      ]
     },
     "metadata": {},
     "output_type": "display_data"
    },
    {
     "data": {
      "application/vnd.jupyter.widget-view+json": {
       "model_id": "d49c4a074b5b45f6ad6b5a99010eabf5",
       "version_major": 2,
       "version_minor": 0
      },
      "text/plain": [
       "added_tokens.json:   0%|          | 0.00/21.0 [00:00<?, ?B/s]"
      ]
     },
     "metadata": {},
     "output_type": "display_data"
    },
    {
     "data": {
      "application/vnd.jupyter.widget-view+json": {
       "model_id": "2f7d325102224784b803cbd659693c96",
       "version_major": 2,
       "version_minor": 0
      },
      "text/plain": [
       "special_tokens_map.json:   0%|          | 0.00/435 [00:00<?, ?B/s]"
      ]
     },
     "metadata": {},
     "output_type": "display_data"
    },
    {
     "data": {
      "application/vnd.jupyter.widget-view+json": {
       "model_id": "404b151df8ee43d98a39e3c348993d3b",
       "version_major": 2,
       "version_minor": 0
      },
      "text/plain": [
       "tokenizer.json:   0%|          | 0.00/1.84M [00:00<?, ?B/s]"
      ]
     },
     "metadata": {},
     "output_type": "display_data"
    }
   ],
   "source": [
    "tokenizer = AutoTokenizer.from_pretrained(model_name, trust_remote_code=True,use_fast=False)\n",
    "tokenizer.pad_token = tokenizer.eos_token"
   ]
  },
  {
   "cell_type": "code",
   "execution_count": null,
   "metadata": {
    "id": "9kurnDL2D5dk"
   },
   "outputs": [],
   "source": [
    "torch.cuda.empty_cache()"
   ]
  },
  {
   "cell_type": "markdown",
   "metadata": {
    "id": "o3_hs0swmYXq"
   },
   "source": [
    "## Define LoRA adapter"
   ]
  },
  {
   "cell_type": "code",
   "execution_count": null,
   "metadata": {
    "id": "fzykAvblD6KI"
   },
   "outputs": [],
   "source": [
    "peft_config = LoraConfig(\n",
    "      lora_alpha= LORA_ALPHA,\n",
    "      lora_dropout= LORA_DROPOUT,\n",
    "      r= LORA_R,\n",
    "      bias=\"none\",\n",
    "      task_type=\"CAUSAL_LM\",\n",
    "  )"
   ]
  },
  {
   "cell_type": "markdown",
   "metadata": {
    "id": "_rlj6L7Vmc38"
   },
   "source": [
    "## Setup training parameters"
   ]
  },
  {
   "cell_type": "code",
   "execution_count": null,
   "metadata": {
    "id": "L7w9YnyED9n-"
   },
   "outputs": [],
   "source": [
    "training_args = TrainingArguments(\n",
    "      output_dir= OUTPUT_DIR,\n",
    "      per_device_train_batch_size=BATCH_SIZE,\n",
    "      gradient_accumulation_steps= gradient_accumulation_steps,\n",
    "      learning_rate= LEARNING_RATE,\n",
    "      logging_steps= STEPS,\n",
    "      num_train_epochs= NUM_EPOCHS,\n",
    "      max_steps= MAX_STEPS,\n",
    ")"
   ]
  },
  {
   "cell_type": "code",
   "execution_count": null,
   "metadata": {
    "id": "5Im1sIE2Fdat"
   },
   "outputs": [],
   "source": [
    "torch.cuda.empty_cache()"
   ]
  },
  {
   "cell_type": "code",
   "execution_count": null,
   "metadata": {
    "id": "570KmNntFVoV"
   },
   "outputs": [],
   "source": [
    "trainer = SFTTrainer(\n",
    "        model=model,\n",
    "        train_dataset=data['train'],\n",
    "        peft_config=peft_config,\n",
    "        dataset_text_field= \"question\",\n",
    "        max_seq_length=512,\n",
    "        tokenizer=tokenizer,\n",
    "        args=training_args,\n",
    ")"
   ]
  },
  {
   "cell_type": "code",
   "execution_count": null,
   "metadata": {
    "colab": {
     "base_uri": "https://localhost:8080/",
     "height": 1000
    },
    "id": "_YCZHV8dFXv3",
    "outputId": "76d8d21a-f15e-427a-b34c-969dce046297"
   },
   "outputs": [
    {
     "name": "stdout",
     "output_type": "stream",
     "text": [
      "{'loss': 3.2842, 'learning_rate': 0.000199609375, 'epoch': 0.02}\n",
      "{'loss': 3.4232, 'learning_rate': 0.00019921875000000001, 'epoch': 0.03}\n",
      "{'loss': 3.0619, 'learning_rate': 0.000198828125, 'epoch': 0.05}\n",
      "{'loss': 2.8441, 'learning_rate': 0.00019843750000000002, 'epoch': 0.06}\n",
      "{'loss': 3.1515, 'learning_rate': 0.000198046875, 'epoch': 0.08}\n",
      "{'loss': 3.3112, 'learning_rate': 0.00019765625, 'epoch': 0.1}\n",
      "{'loss': 2.988, 'learning_rate': 0.000197265625, 'epoch': 0.11}\n",
      "{'loss': 2.7994, 'learning_rate': 0.000196875, 'epoch': 0.13}\n",
      "{'loss': 2.7615, 'learning_rate': 0.00019648437500000002, 'epoch': 0.14}\n",
      "{'loss': 2.7665, 'learning_rate': 0.00019609375, 'epoch': 0.16}\n",
      "{'loss': 2.7176, 'learning_rate': 0.00019570312500000002, 'epoch': 0.18}\n",
      "{'loss': 2.827, 'learning_rate': 0.0001953125, 'epoch': 0.19}\n",
      "{'loss': 2.6007, 'learning_rate': 0.000194921875, 'epoch': 0.21}\n",
      "{'loss': 2.6688, 'learning_rate': 0.00019453125000000002, 'epoch': 0.22}\n",
      "{'loss': 2.5487, 'learning_rate': 0.000194140625, 'epoch': 0.24}\n",
      "{'loss': 2.4075, 'learning_rate': 0.00019375000000000002, 'epoch': 0.26}\n",
      "{'loss': 2.7351, 'learning_rate': 0.000193359375, 'epoch': 0.27}\n",
      "{'loss': 2.3751, 'learning_rate': 0.00019296875, 'epoch': 0.29}\n",
      "{'loss': 2.4116, 'learning_rate': 0.00019257812500000001, 'epoch': 0.3}\n",
      "{'loss': 2.5891, 'learning_rate': 0.0001921875, 'epoch': 0.32}\n",
      "{'loss': 2.7552, 'learning_rate': 0.00019179687500000002, 'epoch': 0.34}\n",
      "{'loss': 2.2944, 'learning_rate': 0.00019140625, 'epoch': 0.35}\n",
      "{'loss': 2.4225, 'learning_rate': 0.000191015625, 'epoch': 0.37}\n",
      "{'loss': 2.4244, 'learning_rate': 0.000190625, 'epoch': 0.38}\n",
      "{'loss': 2.4839, 'learning_rate': 0.000190234375, 'epoch': 0.4}\n",
      "{'loss': 2.6988, 'learning_rate': 0.00018984375000000002, 'epoch': 0.42}\n",
      "{'loss': 2.2435, 'learning_rate': 0.000189453125, 'epoch': 0.43}\n",
      "{'loss': 2.2529, 'learning_rate': 0.00018906250000000002, 'epoch': 0.45}\n",
      "{'loss': 2.3939, 'learning_rate': 0.000188671875, 'epoch': 0.46}\n",
      "{'loss': 2.3153, 'learning_rate': 0.00018828125, 'epoch': 0.48}\n",
      "{'loss': 2.2308, 'learning_rate': 0.00018789062500000002, 'epoch': 0.5}\n",
      "{'loss': 2.5765, 'learning_rate': 0.0001875, 'epoch': 0.51}\n",
      "{'loss': 2.5064, 'learning_rate': 0.00018710937500000002, 'epoch': 0.53}\n",
      "{'loss': 2.2342, 'learning_rate': 0.00018671875, 'epoch': 0.54}\n",
      "{'loss': 2.0789, 'learning_rate': 0.000186328125, 'epoch': 0.56}\n",
      "{'loss': 2.5481, 'learning_rate': 0.0001859375, 'epoch': 0.58}\n",
      "{'loss': 2.251, 'learning_rate': 0.000185546875, 'epoch': 0.59}\n",
      "{'loss': 2.2424, 'learning_rate': 0.00018515625000000002, 'epoch': 0.61}\n",
      "{'loss': 2.4839, 'learning_rate': 0.000184765625, 'epoch': 0.62}\n",
      "{'loss': 2.2783, 'learning_rate': 0.000184375, 'epoch': 0.64}\n",
      "{'loss': 2.3588, 'learning_rate': 0.000183984375, 'epoch': 0.66}\n",
      "{'loss': 2.9256, 'learning_rate': 0.00018359375, 'epoch': 0.67}\n",
      "{'loss': 2.2276, 'learning_rate': 0.00018320312500000002, 'epoch': 0.69}\n",
      "{'loss': 2.3542, 'learning_rate': 0.0001828125, 'epoch': 0.7}\n",
      "{'loss': 2.0038, 'learning_rate': 0.00018242187500000002, 'epoch': 0.72}\n",
      "{'loss': 2.3137, 'learning_rate': 0.00018203125, 'epoch': 0.74}\n",
      "{'loss': 2.2611, 'learning_rate': 0.000181640625, 'epoch': 0.75}\n",
      "{'loss': 2.2873, 'learning_rate': 0.00018125000000000001, 'epoch': 0.77}\n",
      "{'loss': 2.1173, 'learning_rate': 0.000180859375, 'epoch': 0.78}\n",
      "{'loss': 2.4058, 'learning_rate': 0.00018046875000000002, 'epoch': 0.8}\n",
      "{'loss': 1.9967, 'learning_rate': 0.000180078125, 'epoch': 0.82}\n",
      "{'loss': 2.019, 'learning_rate': 0.0001796875, 'epoch': 0.83}\n",
      "{'loss': 2.5835, 'learning_rate': 0.000179296875, 'epoch': 0.85}\n",
      "{'loss': 2.2927, 'learning_rate': 0.00017890625, 'epoch': 0.86}\n",
      "{'loss': 2.5408, 'learning_rate': 0.00017851562500000002, 'epoch': 0.88}\n",
      "{'loss': 2.4932, 'learning_rate': 0.000178125, 'epoch': 0.9}\n",
      "{'loss': 2.1773, 'learning_rate': 0.000177734375, 'epoch': 0.91}\n",
      "{'loss': 2.4074, 'learning_rate': 0.00017734375, 'epoch': 0.93}\n",
      "{'loss': 2.2167, 'learning_rate': 0.000176953125, 'epoch': 0.94}\n",
      "{'loss': 2.1779, 'learning_rate': 0.00017656250000000002, 'epoch': 0.96}\n",
      "{'loss': 2.1794, 'learning_rate': 0.000176171875, 'epoch': 0.98}\n",
      "{'loss': 2.7114, 'learning_rate': 0.00017578125000000002, 'epoch': 0.99}\n",
      "{'loss': 1.9307, 'learning_rate': 0.000175390625, 'epoch': 1.01}\n",
      "{'loss': 2.2925, 'learning_rate': 0.000175, 'epoch': 1.02}\n",
      "{'loss': 2.0417, 'learning_rate': 0.00017460937500000001, 'epoch': 1.04}\n",
      "{'loss': 2.1568, 'learning_rate': 0.00017421875, 'epoch': 1.06}\n",
      "{'loss': 2.2405, 'learning_rate': 0.00017382812500000002, 'epoch': 1.07}\n",
      "{'loss': 2.2782, 'learning_rate': 0.0001734375, 'epoch': 1.09}\n",
      "{'loss': 2.2433, 'learning_rate': 0.000173046875, 'epoch': 1.1}\n",
      "{'loss': 2.2002, 'learning_rate': 0.00017265625, 'epoch': 1.12}\n",
      "{'loss': 2.1001, 'learning_rate': 0.000172265625, 'epoch': 1.14}\n",
      "{'loss': 2.3641, 'learning_rate': 0.00017187500000000002, 'epoch': 1.15}\n",
      "{'loss': 2.1899, 'learning_rate': 0.000171484375, 'epoch': 1.17}\n",
      "{'loss': 1.9771, 'learning_rate': 0.00017109375, 'epoch': 1.18}\n",
      "{'loss': 2.0729, 'learning_rate': 0.000170703125, 'epoch': 1.2}\n",
      "{'loss': 2.221, 'learning_rate': 0.0001703125, 'epoch': 1.22}\n",
      "{'loss': 2.0242, 'learning_rate': 0.00016992187500000002, 'epoch': 1.23}\n",
      "{'loss': 2.1997, 'learning_rate': 0.00016953125, 'epoch': 1.25}\n",
      "{'loss': 2.0902, 'learning_rate': 0.00016914062500000002, 'epoch': 1.26}\n",
      "{'loss': 1.8294, 'learning_rate': 0.00016875, 'epoch': 1.28}\n",
      "{'loss': 2.3037, 'learning_rate': 0.000168359375, 'epoch': 1.3}\n",
      "{'loss': 2.0641, 'learning_rate': 0.00016796875000000001, 'epoch': 1.31}\n",
      "{'loss': 2.2367, 'learning_rate': 0.000167578125, 'epoch': 1.33}\n",
      "{'loss': 2.1214, 'learning_rate': 0.00016718750000000002, 'epoch': 1.34}\n",
      "{'loss': 2.0362, 'learning_rate': 0.000166796875, 'epoch': 1.36}\n",
      "{'loss': 2.1797, 'learning_rate': 0.00016640625, 'epoch': 1.38}\n",
      "{'loss': 2.0813, 'learning_rate': 0.000166015625, 'epoch': 1.39}\n",
      "{'loss': 2.1927, 'learning_rate': 0.000165625, 'epoch': 1.41}\n",
      "{'loss': 2.3175, 'learning_rate': 0.00016523437500000002, 'epoch': 1.42}\n",
      "{'loss': 2.1027, 'learning_rate': 0.00016484375, 'epoch': 1.44}\n",
      "{'loss': 2.2102, 'learning_rate': 0.00016445312500000002, 'epoch': 1.46}\n",
      "{'loss': 2.4121, 'learning_rate': 0.0001640625, 'epoch': 1.47}\n",
      "{'loss': 2.1494, 'learning_rate': 0.000163671875, 'epoch': 1.49}\n",
      "{'loss': 2.0827, 'learning_rate': 0.00016328125000000001, 'epoch': 1.5}\n",
      "{'loss': 2.4107, 'learning_rate': 0.000162890625, 'epoch': 1.52}\n",
      "{'loss': 2.0031, 'learning_rate': 0.00016250000000000002, 'epoch': 1.54}\n",
      "{'loss': 2.1506, 'learning_rate': 0.000162109375, 'epoch': 1.55}\n",
      "{'loss': 1.8101, 'learning_rate': 0.00016171875, 'epoch': 1.57}\n",
      "{'loss': 2.2296, 'learning_rate': 0.000161328125, 'epoch': 1.58}\n",
      "{'loss': 2.0739, 'learning_rate': 0.0001609375, 'epoch': 1.6}\n",
      "{'loss': 2.074, 'learning_rate': 0.00016054687500000002, 'epoch': 1.62}\n",
      "{'loss': 2.1727, 'learning_rate': 0.00016015625, 'epoch': 1.63}\n",
      "{'loss': 2.056, 'learning_rate': 0.000159765625, 'epoch': 1.65}\n",
      "{'loss': 2.269, 'learning_rate': 0.000159375, 'epoch': 1.66}\n",
      "{'loss': 1.83, 'learning_rate': 0.000158984375, 'epoch': 1.68}\n",
      "{'loss': 2.4901, 'learning_rate': 0.00015859375000000002, 'epoch': 1.7}\n",
      "{'loss': 2.3694, 'learning_rate': 0.000158203125, 'epoch': 1.71}\n",
      "{'loss': 2.1094, 'learning_rate': 0.00015781250000000002, 'epoch': 1.73}\n",
      "{'loss': 2.0538, 'learning_rate': 0.000157421875, 'epoch': 1.74}\n",
      "{'loss': 2.4947, 'learning_rate': 0.00015703125, 'epoch': 1.76}\n",
      "{'loss': 2.0068, 'learning_rate': 0.00015664062500000001, 'epoch': 1.78}\n",
      "{'loss': 1.9335, 'learning_rate': 0.00015625, 'epoch': 1.79}\n",
      "{'loss': 2.1554, 'learning_rate': 0.00015585937500000002, 'epoch': 1.81}\n",
      "{'loss': 2.0719, 'learning_rate': 0.00015546875, 'epoch': 1.82}\n",
      "{'loss': 2.2002, 'learning_rate': 0.000155078125, 'epoch': 1.84}\n",
      "{'loss': 2.1099, 'learning_rate': 0.0001546875, 'epoch': 1.86}\n",
      "{'loss': 1.6892, 'learning_rate': 0.000154296875, 'epoch': 1.87}\n",
      "{'loss': 2.1527, 'learning_rate': 0.00015390625000000002, 'epoch': 1.89}\n",
      "{'loss': 2.4862, 'learning_rate': 0.000153515625, 'epoch': 1.9}\n",
      "{'loss': 2.1281, 'learning_rate': 0.000153125, 'epoch': 1.92}\n",
      "{'loss': 2.1368, 'learning_rate': 0.000152734375, 'epoch': 1.94}\n",
      "{'loss': 1.9079, 'learning_rate': 0.00015234375, 'epoch': 1.95}\n",
      "{'loss': 1.9334, 'learning_rate': 0.00015195312500000002, 'epoch': 1.97}\n",
      "{'loss': 1.9509, 'learning_rate': 0.0001515625, 'epoch': 1.98}\n",
      "{'loss': 2.141, 'learning_rate': 0.00015117187500000002, 'epoch': 2.0}\n",
      "{'loss': 1.834, 'learning_rate': 0.00015078125, 'epoch': 2.02}\n",
      "{'loss': 2.0708, 'learning_rate': 0.000150390625, 'epoch': 2.03}\n",
      "{'loss': 1.9918, 'learning_rate': 0.00015000000000000001, 'epoch': 2.05}\n",
      "{'loss': 1.9782, 'learning_rate': 0.000149609375, 'epoch': 2.06}\n",
      "{'loss': 1.9745, 'learning_rate': 0.00014921875000000002, 'epoch': 2.08}\n",
      "{'loss': 1.8123, 'learning_rate': 0.000148828125, 'epoch': 2.1}\n",
      "{'loss': 1.8982, 'learning_rate': 0.0001484375, 'epoch': 2.11}\n",
      "{'loss': 2.0823, 'learning_rate': 0.000148046875, 'epoch': 2.13}\n",
      "{'loss': 2.0732, 'learning_rate': 0.00014765625, 'epoch': 2.14}\n",
      "{'loss': 1.8127, 'learning_rate': 0.00014726562500000002, 'epoch': 2.16}\n",
      "{'loss': 2.2301, 'learning_rate': 0.000146875, 'epoch': 2.18}\n",
      "{'loss': 1.7247, 'learning_rate': 0.000146484375, 'epoch': 2.19}\n",
      "{'loss': 1.8646, 'learning_rate': 0.00014609375, 'epoch': 2.21}\n",
      "{'loss': 2.0761, 'learning_rate': 0.000145703125, 'epoch': 2.22}\n",
      "{'loss': 1.9579, 'learning_rate': 0.00014531250000000002, 'epoch': 2.24}\n",
      "{'loss': 1.9415, 'learning_rate': 0.000144921875, 'epoch': 2.26}\n",
      "{'loss': 1.587, 'learning_rate': 0.00014453125000000002, 'epoch': 2.27}\n",
      "{'loss': 1.8593, 'learning_rate': 0.000144140625, 'epoch': 2.29}\n",
      "{'loss': 1.9024, 'learning_rate': 0.00014375, 'epoch': 2.3}\n",
      "{'loss': 1.9468, 'learning_rate': 0.000143359375, 'epoch': 2.32}\n",
      "{'loss': 1.962, 'learning_rate': 0.00014296875, 'epoch': 2.34}\n",
      "{'loss': 1.9243, 'learning_rate': 0.00014257812500000002, 'epoch': 2.35}\n",
      "{'loss': 1.8982, 'learning_rate': 0.0001421875, 'epoch': 2.37}\n",
      "{'loss': 1.95, 'learning_rate': 0.000141796875, 'epoch': 2.38}\n",
      "{'loss': 2.0763, 'learning_rate': 0.00014140625, 'epoch': 2.4}\n",
      "{'loss': 1.8579, 'learning_rate': 0.000141015625, 'epoch': 2.42}\n",
      "{'loss': 1.8914, 'learning_rate': 0.00014062500000000002, 'epoch': 2.43}\n",
      "{'loss': 1.9617, 'learning_rate': 0.000140234375, 'epoch': 2.45}\n",
      "{'loss': 1.8456, 'learning_rate': 0.00013984375, 'epoch': 2.46}\n",
      "{'loss': 1.8872, 'learning_rate': 0.000139453125, 'epoch': 2.48}\n",
      "{'loss': 1.8575, 'learning_rate': 0.0001390625, 'epoch': 2.5}\n",
      "{'loss': 1.8991, 'learning_rate': 0.00013867187500000001, 'epoch': 2.51}\n",
      "{'loss': 1.8746, 'learning_rate': 0.00013828125, 'epoch': 2.53}\n",
      "{'loss': 1.9546, 'learning_rate': 0.00013789062500000002, 'epoch': 2.54}\n",
      "{'loss': 1.9214, 'learning_rate': 0.0001375, 'epoch': 2.56}\n",
      "{'loss': 1.9098, 'learning_rate': 0.000137109375, 'epoch': 2.58}\n",
      "{'loss': 1.8937, 'learning_rate': 0.00013671875, 'epoch': 2.59}\n",
      "{'loss': 1.9858, 'learning_rate': 0.000136328125, 'epoch': 2.61}\n",
      "{'loss': 1.9306, 'learning_rate': 0.00013593750000000002, 'epoch': 2.62}\n",
      "{'loss': 2.0488, 'learning_rate': 0.000135546875, 'epoch': 2.64}\n",
      "{'loss': 2.1333, 'learning_rate': 0.00013515625, 'epoch': 2.66}\n",
      "{'loss': 1.7993, 'learning_rate': 0.000134765625, 'epoch': 2.67}\n",
      "{'loss': 1.8371, 'learning_rate': 0.000134375, 'epoch': 2.69}\n",
      "{'loss': 2.0181, 'learning_rate': 0.00013398437500000002, 'epoch': 2.7}\n",
      "{'loss': 1.9638, 'learning_rate': 0.00013359375, 'epoch': 2.72}\n",
      "{'loss': 1.9467, 'learning_rate': 0.000133203125, 'epoch': 2.74}\n",
      "{'loss': 2.0951, 'learning_rate': 0.0001328125, 'epoch': 2.75}\n",
      "{'loss': 1.8922, 'learning_rate': 0.000132421875, 'epoch': 2.77}\n",
      "{'loss': 1.9741, 'learning_rate': 0.00013203125000000001, 'epoch': 2.78}\n",
      "{'loss': 1.9021, 'learning_rate': 0.000131640625, 'epoch': 2.8}\n",
      "{'loss': 1.7944, 'learning_rate': 0.00013125000000000002, 'epoch': 2.82}\n",
      "{'loss': 1.9005, 'learning_rate': 0.000130859375, 'epoch': 2.83}\n",
      "{'loss': 2.0288, 'learning_rate': 0.00013046875, 'epoch': 2.85}\n",
      "{'loss': 1.7857, 'learning_rate': 0.000130078125, 'epoch': 2.86}\n",
      "{'loss': 1.8297, 'learning_rate': 0.0001296875, 'epoch': 2.88}\n",
      "{'loss': 1.8564, 'learning_rate': 0.00012929687500000002, 'epoch': 2.9}\n",
      "{'loss': 1.978, 'learning_rate': 0.00012890625, 'epoch': 2.91}\n",
      "{'loss': 1.8712, 'learning_rate': 0.000128515625, 'epoch': 2.93}\n",
      "{'loss': 1.8021, 'learning_rate': 0.000128125, 'epoch': 2.94}\n",
      "{'loss': 1.9811, 'learning_rate': 0.000127734375, 'epoch': 2.96}\n",
      "{'loss': 1.9134, 'learning_rate': 0.00012734375000000002, 'epoch': 2.98}\n",
      "{'loss': 1.9351, 'learning_rate': 0.000126953125, 'epoch': 2.99}\n",
      "{'loss': 1.8519, 'learning_rate': 0.0001265625, 'epoch': 3.01}\n",
      "{'loss': 1.5761, 'learning_rate': 0.000126171875, 'epoch': 3.02}\n",
      "{'loss': 1.7881, 'learning_rate': 0.00012578125, 'epoch': 3.04}\n",
      "{'loss': 1.5491, 'learning_rate': 0.00012539062500000001, 'epoch': 3.06}\n",
      "{'loss': 1.6674, 'learning_rate': 0.000125, 'epoch': 3.07}\n",
      "{'loss': 1.628, 'learning_rate': 0.00012460937500000002, 'epoch': 3.09}\n",
      "{'loss': 1.7175, 'learning_rate': 0.00012421875, 'epoch': 3.1}\n",
      "{'loss': 1.8303, 'learning_rate': 0.000123828125, 'epoch': 3.12}\n",
      "{'loss': 1.5768, 'learning_rate': 0.0001234375, 'epoch': 3.14}\n",
      "{'loss': 1.8284, 'learning_rate': 0.000123046875, 'epoch': 3.15}\n",
      "{'loss': 1.9984, 'learning_rate': 0.00012265625000000002, 'epoch': 3.17}\n",
      "{'loss': 1.6719, 'learning_rate': 0.000122265625, 'epoch': 3.18}\n",
      "{'loss': 1.704, 'learning_rate': 0.00012187500000000001, 'epoch': 3.2}\n",
      "{'loss': 1.7173, 'learning_rate': 0.00012148437500000001, 'epoch': 3.22}\n",
      "{'loss': 1.7068, 'learning_rate': 0.00012109375, 'epoch': 3.23}\n",
      "{'loss': 1.845, 'learning_rate': 0.000120703125, 'epoch': 3.25}\n",
      "{'loss': 1.7666, 'learning_rate': 0.0001203125, 'epoch': 3.26}\n",
      "{'loss': 1.7116, 'learning_rate': 0.000119921875, 'epoch': 3.28}\n",
      "{'loss': 1.6465, 'learning_rate': 0.00011953125000000001, 'epoch': 3.3}\n",
      "{'loss': 1.7352, 'learning_rate': 0.00011914062500000001, 'epoch': 3.31}\n",
      "{'loss': 1.4155, 'learning_rate': 0.00011875, 'epoch': 3.33}\n",
      "{'loss': 1.7409, 'learning_rate': 0.000118359375, 'epoch': 3.34}\n",
      "{'loss': 1.5555, 'learning_rate': 0.00011796875, 'epoch': 3.36}\n",
      "{'loss': 1.6936, 'learning_rate': 0.00011757812500000001, 'epoch': 3.38}\n",
      "{'loss': 1.6412, 'learning_rate': 0.00011718750000000001, 'epoch': 3.39}\n",
      "{'loss': 1.6877, 'learning_rate': 0.00011679687500000001, 'epoch': 3.41}\n",
      "{'loss': 1.7704, 'learning_rate': 0.00011640625, 'epoch': 3.42}\n",
      "{'loss': 1.7059, 'learning_rate': 0.000116015625, 'epoch': 3.44}\n",
      "{'loss': 1.7641, 'learning_rate': 0.000115625, 'epoch': 3.46}\n",
      "{'loss': 1.7305, 'learning_rate': 0.00011523437500000001, 'epoch': 3.47}\n",
      "{'loss': 1.5941, 'learning_rate': 0.00011484375000000001, 'epoch': 3.49}\n",
      "{'loss': 1.7616, 'learning_rate': 0.00011445312500000001, 'epoch': 3.5}\n",
      "{'loss': 1.5939, 'learning_rate': 0.0001140625, 'epoch': 3.52}\n",
      "{'loss': 1.7231, 'learning_rate': 0.000113671875, 'epoch': 3.54}\n",
      "{'loss': 1.5729, 'learning_rate': 0.00011328125, 'epoch': 3.55}\n",
      "{'loss': 1.6563, 'learning_rate': 0.00011289062500000001, 'epoch': 3.57}\n",
      "{'loss': 1.6338, 'learning_rate': 0.00011250000000000001, 'epoch': 3.58}\n",
      "{'loss': 1.6241, 'learning_rate': 0.000112109375, 'epoch': 3.6}\n",
      "{'loss': 1.6536, 'learning_rate': 0.00011171875, 'epoch': 3.62}\n",
      "{'loss': 1.6581, 'learning_rate': 0.000111328125, 'epoch': 3.63}\n",
      "{'loss': 1.649, 'learning_rate': 0.0001109375, 'epoch': 3.65}\n",
      "{'loss': 1.5984, 'learning_rate': 0.00011054687500000001, 'epoch': 3.66}\n",
      "{'loss': 1.8777, 'learning_rate': 0.00011015625000000001, 'epoch': 3.68}\n",
      "{'loss': 1.7426, 'learning_rate': 0.000109765625, 'epoch': 3.7}\n",
      "{'loss': 1.6079, 'learning_rate': 0.000109375, 'epoch': 3.71}\n",
      "{'loss': 1.7614, 'learning_rate': 0.000108984375, 'epoch': 3.73}\n",
      "{'loss': 1.539, 'learning_rate': 0.00010859375000000001, 'epoch': 3.74}\n",
      "{'loss': 1.7205, 'learning_rate': 0.00010820312500000001, 'epoch': 3.76}\n",
      "{'loss': 1.6647, 'learning_rate': 0.00010781250000000001, 'epoch': 3.78}\n",
      "{'loss': 1.6492, 'learning_rate': 0.000107421875, 'epoch': 3.79}\n",
      "{'loss': 1.6548, 'learning_rate': 0.00010703125, 'epoch': 3.81}\n",
      "{'loss': 1.6491, 'learning_rate': 0.000106640625, 'epoch': 3.82}\n",
      "{'loss': 1.7497, 'learning_rate': 0.00010625000000000001, 'epoch': 3.84}\n",
      "{'loss': 1.6917, 'learning_rate': 0.00010585937500000001, 'epoch': 3.86}\n",
      "{'loss': 1.9394, 'learning_rate': 0.00010546875, 'epoch': 3.87}\n",
      "{'loss': 1.7196, 'learning_rate': 0.000105078125, 'epoch': 3.89}\n",
      "{'loss': 1.7728, 'learning_rate': 0.0001046875, 'epoch': 3.9}\n",
      "{'loss': 1.7374, 'learning_rate': 0.000104296875, 'epoch': 3.92}\n",
      "{'loss': 1.5951, 'learning_rate': 0.00010390625000000001, 'epoch': 3.94}\n",
      "{'loss': 1.6269, 'learning_rate': 0.00010351562500000001, 'epoch': 3.95}\n",
      "{'loss': 1.8447, 'learning_rate': 0.000103125, 'epoch': 3.97}\n",
      "{'loss': 1.7388, 'learning_rate': 0.000102734375, 'epoch': 3.98}\n",
      "{'loss': 1.9615, 'learning_rate': 0.00010234375, 'epoch': 4.0}\n",
      "{'loss': 1.515, 'learning_rate': 0.000101953125, 'epoch': 4.02}\n",
      "{'loss': 1.5874, 'learning_rate': 0.00010156250000000001, 'epoch': 4.03}\n",
      "{'loss': 1.4494, 'learning_rate': 0.00010117187500000001, 'epoch': 4.05}\n",
      "{'loss': 1.3977, 'learning_rate': 0.00010078125, 'epoch': 4.06}\n",
      "{'loss': 1.4793, 'learning_rate': 0.000100390625, 'epoch': 4.08}\n",
      "{'loss': 1.24, 'learning_rate': 0.0001, 'epoch': 4.1}\n",
      "{'loss': 1.3616, 'learning_rate': 9.960937500000001e-05, 'epoch': 4.11}\n",
      "{'loss': 1.3908, 'learning_rate': 9.921875000000001e-05, 'epoch': 4.13}\n",
      "{'loss': 1.5281, 'learning_rate': 9.8828125e-05, 'epoch': 4.14}\n",
      "{'loss': 1.6075, 'learning_rate': 9.84375e-05, 'epoch': 4.16}\n",
      "{'loss': 1.3171, 'learning_rate': 9.8046875e-05, 'epoch': 4.18}\n",
      "{'loss': 1.3777, 'learning_rate': 9.765625e-05, 'epoch': 4.19}\n",
      "{'loss': 1.3633, 'learning_rate': 9.726562500000001e-05, 'epoch': 4.21}\n",
      "{'loss': 1.6198, 'learning_rate': 9.687500000000001e-05, 'epoch': 4.22}\n",
      "{'loss': 1.386, 'learning_rate': 9.6484375e-05, 'epoch': 4.24}\n",
      "{'loss': 1.4714, 'learning_rate': 9.609375e-05, 'epoch': 4.26}\n",
      "{'loss': 1.4196, 'learning_rate': 9.5703125e-05, 'epoch': 4.27}\n",
      "{'loss': 1.3198, 'learning_rate': 9.53125e-05, 'epoch': 4.29}\n",
      "{'loss': 1.5795, 'learning_rate': 9.492187500000001e-05, 'epoch': 4.3}\n",
      "{'loss': 1.5153, 'learning_rate': 9.453125000000001e-05, 'epoch': 4.32}\n",
      "{'loss': 1.4405, 'learning_rate': 9.4140625e-05, 'epoch': 4.34}\n",
      "{'loss': 1.4915, 'learning_rate': 9.375e-05, 'epoch': 4.35}\n",
      "{'loss': 1.6301, 'learning_rate': 9.3359375e-05, 'epoch': 4.37}\n",
      "{'loss': 1.4885, 'learning_rate': 9.296875e-05, 'epoch': 4.38}\n",
      "{'loss': 1.4287, 'learning_rate': 9.257812500000001e-05, 'epoch': 4.4}\n",
      "{'loss': 1.3766, 'learning_rate': 9.21875e-05, 'epoch': 4.42}\n",
      "{'loss': 1.4635, 'learning_rate': 9.1796875e-05, 'epoch': 4.43}\n",
      "{'loss': 1.4191, 'learning_rate': 9.140625e-05, 'epoch': 4.45}\n",
      "{'loss': 1.6418, 'learning_rate': 9.1015625e-05, 'epoch': 4.46}\n",
      "{'loss': 1.4646, 'learning_rate': 9.062500000000001e-05, 'epoch': 4.48}\n",
      "{'loss': 1.4931, 'learning_rate': 9.023437500000001e-05, 'epoch': 4.5}\n",
      "{'loss': 1.4136, 'learning_rate': 8.984375e-05, 'epoch': 4.51}\n",
      "{'loss': 1.4762, 'learning_rate': 8.9453125e-05, 'epoch': 4.53}\n",
      "{'loss': 1.6071, 'learning_rate': 8.90625e-05, 'epoch': 4.54}\n",
      "{'loss': 1.5201, 'learning_rate': 8.8671875e-05, 'epoch': 4.56}\n",
      "{'loss': 1.5542, 'learning_rate': 8.828125000000001e-05, 'epoch': 4.58}\n",
      "{'loss': 1.4367, 'learning_rate': 8.789062500000001e-05, 'epoch': 4.59}\n",
      "{'loss': 1.4445, 'learning_rate': 8.75e-05, 'epoch': 4.61}\n",
      "{'loss': 1.4704, 'learning_rate': 8.7109375e-05, 'epoch': 4.62}\n",
      "{'loss': 1.4846, 'learning_rate': 8.671875e-05, 'epoch': 4.64}\n",
      "{'loss': 1.4429, 'learning_rate': 8.6328125e-05, 'epoch': 4.66}\n",
      "{'loss': 1.549, 'learning_rate': 8.593750000000001e-05, 'epoch': 4.67}\n",
      "{'loss': 1.5455, 'learning_rate': 8.5546875e-05, 'epoch': 4.69}\n",
      "{'loss': 1.3689, 'learning_rate': 8.515625e-05, 'epoch': 4.7}\n",
      "{'loss': 1.4472, 'learning_rate': 8.4765625e-05, 'epoch': 4.72}\n",
      "{'loss': 1.4361, 'learning_rate': 8.4375e-05, 'epoch': 4.74}\n",
      "{'loss': 1.7012, 'learning_rate': 8.398437500000001e-05, 'epoch': 4.75}\n",
      "{'loss': 1.4475, 'learning_rate': 8.359375000000001e-05, 'epoch': 4.77}\n",
      "{'loss': 1.3714, 'learning_rate': 8.3203125e-05, 'epoch': 4.78}\n",
      "{'loss': 1.3909, 'learning_rate': 8.28125e-05, 'epoch': 4.8}\n",
      "{'loss': 1.4016, 'learning_rate': 8.2421875e-05, 'epoch': 4.82}\n",
      "{'loss': 1.4641, 'learning_rate': 8.203125e-05, 'epoch': 4.83}\n",
      "{'loss': 1.6506, 'learning_rate': 8.164062500000001e-05, 'epoch': 4.85}\n",
      "{'loss': 1.3503, 'learning_rate': 8.125000000000001e-05, 'epoch': 4.86}\n",
      "{'loss': 1.4364, 'learning_rate': 8.0859375e-05, 'epoch': 4.88}\n",
      "{'loss': 1.3037, 'learning_rate': 8.046875e-05, 'epoch': 4.9}\n",
      "{'loss': 1.6182, 'learning_rate': 8.0078125e-05, 'epoch': 4.91}\n",
      "{'loss': 1.7657, 'learning_rate': 7.96875e-05, 'epoch': 4.93}\n",
      "{'loss': 1.4473, 'learning_rate': 7.929687500000001e-05, 'epoch': 4.94}\n",
      "{'loss': 1.6513, 'learning_rate': 7.890625000000001e-05, 'epoch': 4.96}\n",
      "{'loss': 1.6531, 'learning_rate': 7.8515625e-05, 'epoch': 4.98}\n",
      "{'loss': 1.5619, 'learning_rate': 7.8125e-05, 'epoch': 4.99}\n",
      "{'loss': 1.4681, 'learning_rate': 7.7734375e-05, 'epoch': 5.01}\n",
      "{'loss': 1.167, 'learning_rate': 7.734375e-05, 'epoch': 5.02}\n",
      "{'loss': 1.2382, 'learning_rate': 7.695312500000001e-05, 'epoch': 5.04}\n",
      "{'loss': 1.4008, 'learning_rate': 7.65625e-05, 'epoch': 5.06}\n",
      "{'loss': 1.1694, 'learning_rate': 7.6171875e-05, 'epoch': 5.07}\n",
      "{'loss': 1.3557, 'learning_rate': 7.578125e-05, 'epoch': 5.09}\n",
      "{'loss': 1.3117, 'learning_rate': 7.5390625e-05, 'epoch': 5.1}\n",
      "{'loss': 1.3533, 'learning_rate': 7.500000000000001e-05, 'epoch': 5.12}\n",
      "{'loss': 1.3259, 'learning_rate': 7.460937500000001e-05, 'epoch': 5.14}\n",
      "{'loss': 1.2108, 'learning_rate': 7.421875e-05, 'epoch': 5.15}\n",
      "{'loss': 1.2254, 'learning_rate': 7.3828125e-05, 'epoch': 5.17}\n",
      "{'loss': 1.3728, 'learning_rate': 7.34375e-05, 'epoch': 5.18}\n"
     ]
    },
    {
     "ename": "KeyboardInterrupt",
     "evalue": "ignored",
     "output_type": "error",
     "traceback": [
      "\u001b[0;31m---------------------------------------------------------------------------\u001b[0m",
      "\u001b[0;31mKeyboardInterrupt\u001b[0m                         Traceback (most recent call last)",
      "\u001b[0;32m<ipython-input-42-3435b262f1ae>\u001b[0m in \u001b[0;36m<cell line: 1>\u001b[0;34m()\u001b[0m\n\u001b[0;32m----> 1\u001b[0;31m \u001b[0mtrainer\u001b[0m\u001b[0;34m.\u001b[0m\u001b[0mtrain\u001b[0m\u001b[0;34m(\u001b[0m\u001b[0;34m)\u001b[0m\u001b[0;34m\u001b[0m\u001b[0;34m\u001b[0m\u001b[0m\n\u001b[0m",
      "\u001b[0;32m/usr/local/lib/python3.10/dist-packages/trl/trainer/sft_trainer.py\u001b[0m in \u001b[0;36mtrain\u001b[0;34m(self, *args, **kwargs)\u001b[0m\n\u001b[1;32m    278\u001b[0m             \u001b[0mself\u001b[0m\u001b[0;34m.\u001b[0m\u001b[0mmodel\u001b[0m \u001b[0;34m=\u001b[0m \u001b[0mself\u001b[0m\u001b[0;34m.\u001b[0m\u001b[0m_trl_activate_neftune\u001b[0m\u001b[0;34m(\u001b[0m\u001b[0mself\u001b[0m\u001b[0;34m.\u001b[0m\u001b[0mmodel\u001b[0m\u001b[0;34m)\u001b[0m\u001b[0;34m\u001b[0m\u001b[0;34m\u001b[0m\u001b[0m\n\u001b[1;32m    279\u001b[0m \u001b[0;34m\u001b[0m\u001b[0m\n\u001b[0;32m--> 280\u001b[0;31m         \u001b[0moutput\u001b[0m \u001b[0;34m=\u001b[0m \u001b[0msuper\u001b[0m\u001b[0;34m(\u001b[0m\u001b[0;34m)\u001b[0m\u001b[0;34m.\u001b[0m\u001b[0mtrain\u001b[0m\u001b[0;34m(\u001b[0m\u001b[0;34m*\u001b[0m\u001b[0margs\u001b[0m\u001b[0;34m,\u001b[0m \u001b[0;34m**\u001b[0m\u001b[0mkwargs\u001b[0m\u001b[0;34m)\u001b[0m\u001b[0;34m\u001b[0m\u001b[0;34m\u001b[0m\u001b[0m\n\u001b[0m\u001b[1;32m    281\u001b[0m \u001b[0;34m\u001b[0m\u001b[0m\n\u001b[1;32m    282\u001b[0m         \u001b[0;31m# After training we make sure to retrieve back the original forward pass method\u001b[0m\u001b[0;34m\u001b[0m\u001b[0;34m\u001b[0m\u001b[0m\n",
      "\u001b[0;32m/usr/local/lib/python3.10/dist-packages/transformers/trainer.py\u001b[0m in \u001b[0;36mtrain\u001b[0;34m(self, resume_from_checkpoint, trial, ignore_keys_for_eval, **kwargs)\u001b[0m\n\u001b[1;32m   1553\u001b[0m                 \u001b[0mhf_hub_utils\u001b[0m\u001b[0;34m.\u001b[0m\u001b[0menable_progress_bars\u001b[0m\u001b[0;34m(\u001b[0m\u001b[0;34m)\u001b[0m\u001b[0;34m\u001b[0m\u001b[0;34m\u001b[0m\u001b[0m\n\u001b[1;32m   1554\u001b[0m         \u001b[0;32melse\u001b[0m\u001b[0;34m:\u001b[0m\u001b[0;34m\u001b[0m\u001b[0;34m\u001b[0m\u001b[0m\n\u001b[0;32m-> 1555\u001b[0;31m             return inner_training_loop(\n\u001b[0m\u001b[1;32m   1556\u001b[0m                 \u001b[0margs\u001b[0m\u001b[0;34m=\u001b[0m\u001b[0margs\u001b[0m\u001b[0;34m,\u001b[0m\u001b[0;34m\u001b[0m\u001b[0;34m\u001b[0m\u001b[0m\n\u001b[1;32m   1557\u001b[0m                 \u001b[0mresume_from_checkpoint\u001b[0m\u001b[0;34m=\u001b[0m\u001b[0mresume_from_checkpoint\u001b[0m\u001b[0;34m,\u001b[0m\u001b[0;34m\u001b[0m\u001b[0;34m\u001b[0m\u001b[0m\n",
      "\u001b[0;32m/usr/local/lib/python3.10/dist-packages/transformers/trainer.py\u001b[0m in \u001b[0;36m_inner_training_loop\u001b[0;34m(self, batch_size, args, resume_from_checkpoint, trial, ignore_keys_for_eval)\u001b[0m\n\u001b[1;32m   1863\u001b[0m                     \u001b[0margs\u001b[0m\u001b[0;34m.\u001b[0m\u001b[0mlogging_nan_inf_filter\u001b[0m\u001b[0;34m\u001b[0m\u001b[0;34m\u001b[0m\u001b[0m\n\u001b[1;32m   1864\u001b[0m                     \u001b[0;32mand\u001b[0m \u001b[0;32mnot\u001b[0m \u001b[0mis_torch_tpu_available\u001b[0m\u001b[0;34m(\u001b[0m\u001b[0;34m)\u001b[0m\u001b[0;34m\u001b[0m\u001b[0;34m\u001b[0m\u001b[0m\n\u001b[0;32m-> 1865\u001b[0;31m                     \u001b[0;32mand\u001b[0m \u001b[0;34m(\u001b[0m\u001b[0mtorch\u001b[0m\u001b[0;34m.\u001b[0m\u001b[0misnan\u001b[0m\u001b[0;34m(\u001b[0m\u001b[0mtr_loss_step\u001b[0m\u001b[0;34m)\u001b[0m \u001b[0;32mor\u001b[0m \u001b[0mtorch\u001b[0m\u001b[0;34m.\u001b[0m\u001b[0misinf\u001b[0m\u001b[0;34m(\u001b[0m\u001b[0mtr_loss_step\u001b[0m\u001b[0;34m)\u001b[0m\u001b[0;34m)\u001b[0m\u001b[0;34m\u001b[0m\u001b[0;34m\u001b[0m\u001b[0m\n\u001b[0m\u001b[1;32m   1866\u001b[0m                 ):\n\u001b[1;32m   1867\u001b[0m                     \u001b[0;31m# if loss is nan or inf simply add the average of previous logged losses\u001b[0m\u001b[0;34m\u001b[0m\u001b[0;34m\u001b[0m\u001b[0m\n",
      "\u001b[0;31mKeyboardInterrupt\u001b[0m: "
     ]
    }
   ],
   "source": [
    "trainer.train()"
   ]
  },
  {
   "cell_type": "code",
   "execution_count": null,
   "metadata": {
    "id": "ehwpIh4xFqMR"
   },
   "outputs": [],
   "source": [
    "logging.set_verbosity(logging.CRITICAL)\n",
    "torch.cuda.empty_cache()"
   ]
  },
  {
   "cell_type": "code",
   "execution_count": null,
   "metadata": {
    "id": "PwkRlnNLezQ1"
   },
   "outputs": [],
   "source": [
    "model_to_save = trainer.model.module if hasattr(trainer.model, 'module') else trainer.model # Take care of distributed/parallel training\n",
    "model_to_save.save_pretrained(\"outputs\")"
   ]
  },
  {
   "cell_type": "markdown",
   "metadata": {
    "id": "Bi4ro5SXgO8J"
   },
   "source": [
    "## Test the model\n",
    "\n",
    "### Using Inference pipeline"
   ]
  },
  {
   "cell_type": "code",
   "execution_count": null,
   "metadata": {
    "id": "Tvo-oC5zFtz6"
   },
   "outputs": [],
   "source": [
    "pipe = pipeline(task=\"text-generation\",model=model,tokenizer=tokenizer,max_length=500)"
   ]
  },
  {
   "cell_type": "code",
   "execution_count": null,
   "metadata": {
    "id": "EAYkUWoSGBbo"
   },
   "outputs": [],
   "source": [
    "prompt = \"Who is at risk for Prostate Cancer?\""
   ]
  },
  {
   "cell_type": "code",
   "execution_count": null,
   "metadata": {
    "id": "12cQvl7LF-E0"
   },
   "outputs": [],
   "source": [
    "template = f\"\"\"<s>[INST] <<SYS>>\n",
    "You are a honest Medical assistant bot.\n",
    "Your answers should not include any harmful, unethical, racist, sexist, toxic, dangerous, or illegal content.\n",
    "Please ensure that your responses are socially unbiased and positive in nature.\n",
    "If a question does not make any sense, or is not factually coherent, explain why instead of answering something not correct.\n",
    "If you don't know the answer to a question, please don't share false information.\n",
    "<</SYS>>\n",
    "\n",
    "{prompt} [/INST]\n",
    "\"\"\""
   ]
  },
  {
   "cell_type": "code",
   "execution_count": null,
   "metadata": {
    "id": "SMtcgnxhF008"
   },
   "outputs": [],
   "source": [
    "result = pipe(template)"
   ]
  },
  {
   "cell_type": "code",
   "execution_count": null,
   "metadata": {
    "id": "hCzoNoW4F31z"
   },
   "outputs": [],
   "source": [
    "response = result[0]['generated_text']\n",
    "index = response.find(\"[/INST]\")+len(\"[/INST]\")"
   ]
  },
  {
   "cell_type": "code",
   "execution_count": null,
   "metadata": {
    "colab": {
     "base_uri": "https://localhost:8080/"
    },
    "id": "K-aPRL5ufGbu",
    "outputId": "cf473995-dc88-4960-85c7-7d2bd55e8b6c"
   },
   "outputs": [
    {
     "name": "stdout",
     "output_type": "stream",
     "text": [
      "Prostate cancer can affect both men and women, but the risk of developing the disease is higher in men. Men who have a family history of prostate cancer, men who have a history of chronic inflammation, men who have a high level of testosterone, and men who have a strong genetic predisposition to the disease are at a higher risk of developing prostate cancer.\n"
     ]
    }
   ],
   "source": [
    "print(response[index:].strip())"
   ]
  },
  {
   "cell_type": "markdown",
   "metadata": {
    "id": "S3SxOqEwfwjr"
   },
   "source": [
    "## Without using pipeline"
   ]
  },
  {
   "cell_type": "code",
   "execution_count": null,
   "metadata": {
    "id": "nc662wSBffp8"
   },
   "outputs": [],
   "source": [
    "from peft import get_peft_model"
   ]
  },
  {
   "cell_type": "code",
   "execution_count": null,
   "metadata": {
    "id": "wVZXSBASds3R"
   },
   "outputs": [],
   "source": [
    "lora_config = LoraConfig.from_pretrained('outputs')\n",
    "model = get_peft_model(model, lora_config)"
   ]
  },
  {
   "cell_type": "code",
   "execution_count": null,
   "metadata": {
    "colab": {
     "base_uri": "https://localhost:8080/"
    },
    "id": "a7pigvb6f11Y",
    "outputId": "cd33f28c-13c1-4c83-c102-9feb01481bb9"
   },
   "outputs": [
    {
     "data": {
      "text/plain": [
       "device(type='cuda')"
      ]
     },
     "execution_count": 47,
     "metadata": {},
     "output_type": "execute_result"
    }
   ],
   "source": [
    "device = torch.device(\"cuda\" if torch.cuda.is_available() else \"cpu\")\n",
    "device"
   ]
  },
  {
   "cell_type": "code",
   "execution_count": null,
   "metadata": {
    "colab": {
     "base_uri": "https://localhost:8080/"
    },
    "id": "KsmkY8J9fk2z",
    "outputId": "44f32719-c7a3-42c1-dcc7-951984d1f596"
   },
   "outputs": [
    {
     "name": "stdout",
     "output_type": "stream",
     "text": [
      "[INST] <<SYS>>\n",
      "You are a helpful, respectful and honest Medical and Legal assistant. Always answer as helpfully as possible, while being safe. Your answers should not include any harmful, unethical, racist, sexist, toxic, dangerous, or illegal content. Please ensure that your responses are socially unbiased and positive in nature.\n",
      "\n",
      "If a question does not make any sense, or is not factually coherent, explain why instead of answering something not correct. If you don't know the answer to a question, please don't share false information.\n",
      "<</SYS>>\n",
      "\n",
      "Who is at risk for Prostate Cancer? [/INST]\n",
      "\n",
      "Prostate cancer can occur in both men and women, but it is more common in men. The risk of developing prostate cancer increases with age. In fact, the lifetime risk of developing prostate cancer is about 1 in 6 men. African American men have a higher risk of developing prostate cancer than other men. Additionally, men with a family history of prostate cancer are also at a higher risk. It is important to note that early detection and treatment can greatly increase the chances of survival for prostate cancer.\n"
     ]
    }
   ],
   "source": [
    "inputs = tokenizer(template, return_tensors=\"pt\").to(device)\n",
    "model = model.to(device)\n",
    "outputs = model.generate(**inputs, max_new_tokens=1024)\n",
    "print(tokenizer.decode(outputs[0], skip_special_tokens=True))"
   ]
  },
  {
   "cell_type": "markdown",
   "metadata": {
    "id": "thBOyZ9wjcM_"
   },
   "source": [
    "## What's next\n",
    "\n",
    "### Join Discord Server to be part of community and learn more about LLM and GenAI:[https://discord.com/invite/hEMqtDXCHA](https://discord.com/invite/hEMqtDXCHA)"
   ]
  },
  {
   "cell_type": "code",
   "execution_count": null,
   "metadata": {
    "colab": {
     "base_uri": "https://localhost:8080/"
    },
    "id": "XG2SCDp3g4C_",
    "outputId": "aa9d3f2d-6be1-4fd9-f1c5-704ae9642f2e"
   },
   "outputs": [
    {
     "name": "stdout",
     "output_type": "stream",
     "text": [
      "GPU 0: Tesla T4 (UUID: GPU-9ecb8e28-fc76-7481-7af2-4d3de2c801bf)\n"
     ]
    }
   ],
   "source": [
    "!nvidia-smi -L"
   ]
  }
 ],
 "metadata": {
  "accelerator": "GPU",
  "colab": {
   "gpuType": "T4",
   "provenance": []
  },
  "kernelspec": {
   "display_name": "Python 3 (ipykernel)",
   "language": "python",
   "name": "python3"
  },
  "language_info": {
   "codemirror_mode": {
    "name": "ipython",
    "version": 3
   },
   "file_extension": ".py",
   "mimetype": "text/x-python",
   "name": "python",
   "nbconvert_exporter": "python",
   "pygments_lexer": "ipython3",
   "version": "3.10.12"
  },
  "widgets": {
   "application/vnd.jupyter.widget-state+json": {
    "015207e276e64efc898891c86c277539": {
     "model_module": "@jupyter-widgets/base",
     "model_module_version": "1.2.0",
     "model_name": "LayoutModel",
     "state": {
      "_model_module": "@jupyter-widgets/base",
      "_model_module_version": "1.2.0",
      "_model_name": "LayoutModel",
      "_view_count": null,
      "_view_module": "@jupyter-widgets/base",
      "_view_module_version": "1.2.0",
      "_view_name": "LayoutView",
      "align_content": null,
      "align_items": null,
      "align_self": null,
      "border": null,
      "bottom": null,
      "display": null,
      "flex": null,
      "flex_flow": null,
      "grid_area": null,
      "grid_auto_columns": null,
      "grid_auto_flow": null,
      "grid_auto_rows": null,
      "grid_column": null,
      "grid_gap": null,
      "grid_row": null,
      "grid_template_areas": null,
      "grid_template_columns": null,
      "grid_template_rows": null,
      "height": null,
      "justify_content": null,
      "justify_items": null,
      "left": null,
      "margin": null,
      "max_height": null,
      "max_width": null,
      "min_height": null,
      "min_width": null,
      "object_fit": null,
      "object_position": null,
      "order": null,
      "overflow": null,
      "overflow_x": null,
      "overflow_y": null,
      "padding": null,
      "right": null,
      "top": null,
      "visibility": null,
      "width": null
     }
    },
    "0196bac355a04836adceae46830be525": {
     "model_module": "@jupyter-widgets/controls",
     "model_module_version": "1.5.0",
     "model_name": "DescriptionStyleModel",
     "state": {
      "_model_module": "@jupyter-widgets/controls",
      "_model_module_version": "1.5.0",
      "_model_name": "DescriptionStyleModel",
      "_view_count": null,
      "_view_module": "@jupyter-widgets/base",
      "_view_module_version": "1.2.0",
      "_view_name": "StyleView",
      "description_width": ""
     }
    },
    "041c51f4844d461fa1eafffe00791ba7": {
     "model_module": "@jupyter-widgets/controls",
     "model_module_version": "1.5.0",
     "model_name": "HTMLModel",
     "state": {
      "_dom_classes": [],
      "_model_module": "@jupyter-widgets/controls",
      "_model_module_version": "1.5.0",
      "_model_name": "HTMLModel",
      "_view_count": null,
      "_view_module": "@jupyter-widgets/controls",
      "_view_module_version": "1.5.0",
      "_view_name": "HTMLView",
      "description": "",
      "description_tooltip": null,
      "layout": "IPY_MODEL_83cf2b1b85164a1a8d232cab05c1c6ee",
      "placeholder": "​",
      "style": "IPY_MODEL_4e4c8129604d434788e876491330195b",
      "value": " 500k/500k [00:00&lt;00:00, 30.1MB/s]"
     }
    },
    "0a5b193c7bab4b8394b3a86e37901675": {
     "model_module": "@jupyter-widgets/controls",
     "model_module_version": "1.5.0",
     "model_name": "DescriptionStyleModel",
     "state": {
      "_model_module": "@jupyter-widgets/controls",
      "_model_module_version": "1.5.0",
      "_model_name": "DescriptionStyleModel",
      "_view_count": null,
      "_view_module": "@jupyter-widgets/base",
      "_view_module_version": "1.2.0",
      "_view_name": "StyleView",
      "description_width": ""
     }
    },
    "0a78676fa4634d60b407cc57d597dd0b": {
     "model_module": "@jupyter-widgets/controls",
     "model_module_version": "1.5.0",
     "model_name": "DescriptionStyleModel",
     "state": {
      "_model_module": "@jupyter-widgets/controls",
      "_model_module_version": "1.5.0",
      "_model_name": "DescriptionStyleModel",
      "_view_count": null,
      "_view_module": "@jupyter-widgets/base",
      "_view_module_version": "1.2.0",
      "_view_name": "StyleView",
      "description_width": ""
     }
    },
    "11e686d485764ec498c74c017a2397b8": {
     "model_module": "@jupyter-widgets/base",
     "model_module_version": "1.2.0",
     "model_name": "LayoutModel",
     "state": {
      "_model_module": "@jupyter-widgets/base",
      "_model_module_version": "1.2.0",
      "_model_name": "LayoutModel",
      "_view_count": null,
      "_view_module": "@jupyter-widgets/base",
      "_view_module_version": "1.2.0",
      "_view_name": "LayoutView",
      "align_content": null,
      "align_items": null,
      "align_self": null,
      "border": null,
      "bottom": null,
      "display": null,
      "flex": null,
      "flex_flow": null,
      "grid_area": null,
      "grid_auto_columns": null,
      "grid_auto_flow": null,
      "grid_auto_rows": null,
      "grid_column": null,
      "grid_gap": null,
      "grid_row": null,
      "grid_template_areas": null,
      "grid_template_columns": null,
      "grid_template_rows": null,
      "height": null,
      "justify_content": null,
      "justify_items": null,
      "left": null,
      "margin": null,
      "max_height": null,
      "max_width": null,
      "min_height": null,
      "min_width": null,
      "object_fit": null,
      "object_position": null,
      "order": null,
      "overflow": null,
      "overflow_x": null,
      "overflow_y": null,
      "padding": null,
      "right": null,
      "top": null,
      "visibility": null,
      "width": null
     }
    },
    "13c47957d1e942a787466b5ea85d10d7": {
     "model_module": "@jupyter-widgets/base",
     "model_module_version": "1.2.0",
     "model_name": "LayoutModel",
     "state": {
      "_model_module": "@jupyter-widgets/base",
      "_model_module_version": "1.2.0",
      "_model_name": "LayoutModel",
      "_view_count": null,
      "_view_module": "@jupyter-widgets/base",
      "_view_module_version": "1.2.0",
      "_view_name": "LayoutView",
      "align_content": null,
      "align_items": null,
      "align_self": null,
      "border": null,
      "bottom": null,
      "display": null,
      "flex": null,
      "flex_flow": null,
      "grid_area": null,
      "grid_auto_columns": null,
      "grid_auto_flow": null,
      "grid_auto_rows": null,
      "grid_column": null,
      "grid_gap": null,
      "grid_row": null,
      "grid_template_areas": null,
      "grid_template_columns": null,
      "grid_template_rows": null,
      "height": null,
      "justify_content": null,
      "justify_items": null,
      "left": null,
      "margin": null,
      "max_height": null,
      "max_width": null,
      "min_height": null,
      "min_width": null,
      "object_fit": null,
      "object_position": null,
      "order": null,
      "overflow": null,
      "overflow_x": null,
      "overflow_y": null,
      "padding": null,
      "right": null,
      "top": null,
      "visibility": null,
      "width": null
     }
    },
    "19d33cc37de247d5a50b47d791eda29f": {
     "model_module": "@jupyter-widgets/base",
     "model_module_version": "1.2.0",
     "model_name": "LayoutModel",
     "state": {
      "_model_module": "@jupyter-widgets/base",
      "_model_module_version": "1.2.0",
      "_model_name": "LayoutModel",
      "_view_count": null,
      "_view_module": "@jupyter-widgets/base",
      "_view_module_version": "1.2.0",
      "_view_name": "LayoutView",
      "align_content": null,
      "align_items": null,
      "align_self": null,
      "border": null,
      "bottom": null,
      "display": null,
      "flex": null,
      "flex_flow": null,
      "grid_area": null,
      "grid_auto_columns": null,
      "grid_auto_flow": null,
      "grid_auto_rows": null,
      "grid_column": null,
      "grid_gap": null,
      "grid_row": null,
      "grid_template_areas": null,
      "grid_template_columns": null,
      "grid_template_rows": null,
      "height": null,
      "justify_content": null,
      "justify_items": null,
      "left": null,
      "margin": null,
      "max_height": null,
      "max_width": null,
      "min_height": null,
      "min_width": null,
      "object_fit": null,
      "object_position": null,
      "order": null,
      "overflow": null,
      "overflow_x": null,
      "overflow_y": null,
      "padding": null,
      "right": null,
      "top": null,
      "visibility": null,
      "width": null
     }
    },
    "1ce520d5117742d6a7bcadb1d8ce8f84": {
     "model_module": "@jupyter-widgets/controls",
     "model_module_version": "1.5.0",
     "model_name": "DescriptionStyleModel",
     "state": {
      "_model_module": "@jupyter-widgets/controls",
      "_model_module_version": "1.5.0",
      "_model_name": "DescriptionStyleModel",
      "_view_count": null,
      "_view_module": "@jupyter-widgets/base",
      "_view_module_version": "1.2.0",
      "_view_name": "StyleView",
      "description_width": ""
     }
    },
    "25e104f080a04cc094504591445acb70": {
     "model_module": "@jupyter-widgets/controls",
     "model_module_version": "1.5.0",
     "model_name": "HTMLModel",
     "state": {
      "_dom_classes": [],
      "_model_module": "@jupyter-widgets/controls",
      "_model_module_version": "1.5.0",
      "_model_name": "HTMLModel",
      "_view_count": null,
      "_view_module": "@jupyter-widgets/controls",
      "_view_module_version": "1.5.0",
      "_view_name": "HTMLView",
      "description": "",
      "description_tooltip": null,
      "layout": "IPY_MODEL_11e686d485764ec498c74c017a2397b8",
      "placeholder": "​",
      "style": "IPY_MODEL_0a5b193c7bab4b8394b3a86e37901675",
      "value": " 746/746 [00:00&lt;00:00, 43.9kB/s]"
     }
    },
    "273ede2c6ce94082a5b7b61a63e11771": {
     "model_module": "@jupyter-widgets/base",
     "model_module_version": "1.2.0",
     "model_name": "LayoutModel",
     "state": {
      "_model_module": "@jupyter-widgets/base",
      "_model_module_version": "1.2.0",
      "_model_name": "LayoutModel",
      "_view_count": null,
      "_view_module": "@jupyter-widgets/base",
      "_view_module_version": "1.2.0",
      "_view_name": "LayoutView",
      "align_content": null,
      "align_items": null,
      "align_self": null,
      "border": null,
      "bottom": null,
      "display": null,
      "flex": null,
      "flex_flow": null,
      "grid_area": null,
      "grid_auto_columns": null,
      "grid_auto_flow": null,
      "grid_auto_rows": null,
      "grid_column": null,
      "grid_gap": null,
      "grid_row": null,
      "grid_template_areas": null,
      "grid_template_columns": null,
      "grid_template_rows": null,
      "height": null,
      "justify_content": null,
      "justify_items": null,
      "left": null,
      "margin": null,
      "max_height": null,
      "max_width": null,
      "min_height": null,
      "min_width": null,
      "object_fit": null,
      "object_position": null,
      "order": null,
      "overflow": null,
      "overflow_x": null,
      "overflow_y": null,
      "padding": null,
      "right": null,
      "top": null,
      "visibility": null,
      "width": null
     }
    },
    "29eb91f2ed3b43838743b3363bd81b18": {
     "model_module": "@jupyter-widgets/base",
     "model_module_version": "1.2.0",
     "model_name": "LayoutModel",
     "state": {
      "_model_module": "@jupyter-widgets/base",
      "_model_module_version": "1.2.0",
      "_model_name": "LayoutModel",
      "_view_count": null,
      "_view_module": "@jupyter-widgets/base",
      "_view_module_version": "1.2.0",
      "_view_name": "LayoutView",
      "align_content": null,
      "align_items": null,
      "align_self": null,
      "border": null,
      "bottom": null,
      "display": null,
      "flex": null,
      "flex_flow": null,
      "grid_area": null,
      "grid_auto_columns": null,
      "grid_auto_flow": null,
      "grid_auto_rows": null,
      "grid_column": null,
      "grid_gap": null,
      "grid_row": null,
      "grid_template_areas": null,
      "grid_template_columns": null,
      "grid_template_rows": null,
      "height": null,
      "justify_content": null,
      "justify_items": null,
      "left": null,
      "margin": null,
      "max_height": null,
      "max_width": null,
      "min_height": null,
      "min_width": null,
      "object_fit": null,
      "object_position": null,
      "order": null,
      "overflow": null,
      "overflow_x": null,
      "overflow_y": null,
      "padding": null,
      "right": null,
      "top": null,
      "visibility": null,
      "width": null
     }
    },
    "2af8529a7aef43aeb1bee786b0b1b5f0": {
     "model_module": "@jupyter-widgets/base",
     "model_module_version": "1.2.0",
     "model_name": "LayoutModel",
     "state": {
      "_model_module": "@jupyter-widgets/base",
      "_model_module_version": "1.2.0",
      "_model_name": "LayoutModel",
      "_view_count": null,
      "_view_module": "@jupyter-widgets/base",
      "_view_module_version": "1.2.0",
      "_view_name": "LayoutView",
      "align_content": null,
      "align_items": null,
      "align_self": null,
      "border": null,
      "bottom": null,
      "display": null,
      "flex": null,
      "flex_flow": null,
      "grid_area": null,
      "grid_auto_columns": null,
      "grid_auto_flow": null,
      "grid_auto_rows": null,
      "grid_column": null,
      "grid_gap": null,
      "grid_row": null,
      "grid_template_areas": null,
      "grid_template_columns": null,
      "grid_template_rows": null,
      "height": null,
      "justify_content": null,
      "justify_items": null,
      "left": null,
      "margin": null,
      "max_height": null,
      "max_width": null,
      "min_height": null,
      "min_width": null,
      "object_fit": null,
      "object_position": null,
      "order": null,
      "overflow": null,
      "overflow_x": null,
      "overflow_y": null,
      "padding": null,
      "right": null,
      "top": null,
      "visibility": null,
      "width": null
     }
    },
    "2b40eb62133b4159bb8590081abbe0ae": {
     "model_module": "@jupyter-widgets/base",
     "model_module_version": "1.2.0",
     "model_name": "LayoutModel",
     "state": {
      "_model_module": "@jupyter-widgets/base",
      "_model_module_version": "1.2.0",
      "_model_name": "LayoutModel",
      "_view_count": null,
      "_view_module": "@jupyter-widgets/base",
      "_view_module_version": "1.2.0",
      "_view_name": "LayoutView",
      "align_content": null,
      "align_items": null,
      "align_self": null,
      "border": null,
      "bottom": null,
      "display": null,
      "flex": null,
      "flex_flow": null,
      "grid_area": null,
      "grid_auto_columns": null,
      "grid_auto_flow": null,
      "grid_auto_rows": null,
      "grid_column": null,
      "grid_gap": null,
      "grid_row": null,
      "grid_template_areas": null,
      "grid_template_columns": null,
      "grid_template_rows": null,
      "height": null,
      "justify_content": null,
      "justify_items": null,
      "left": null,
      "margin": null,
      "max_height": null,
      "max_width": null,
      "min_height": null,
      "min_width": null,
      "object_fit": null,
      "object_position": null,
      "order": null,
      "overflow": null,
      "overflow_x": null,
      "overflow_y": null,
      "padding": null,
      "right": null,
      "top": null,
      "visibility": null,
      "width": null
     }
    },
    "2b873fe6b77e4b32bc95f96eda18b318": {
     "model_module": "@jupyter-widgets/controls",
     "model_module_version": "1.5.0",
     "model_name": "HTMLModel",
     "state": {
      "_dom_classes": [],
      "_model_module": "@jupyter-widgets/controls",
      "_model_module_version": "1.5.0",
      "_model_name": "HTMLModel",
      "_view_count": null,
      "_view_module": "@jupyter-widgets/controls",
      "_view_module_version": "1.5.0",
      "_view_name": "HTMLView",
      "description": "",
      "description_tooltip": null,
      "layout": "IPY_MODEL_273ede2c6ce94082a5b7b61a63e11771",
      "placeholder": "​",
      "style": "IPY_MODEL_d93d04727f8d4504af6a836a8219d3d4",
      "value": "special_tokens_map.json: 100%"
     }
    },
    "2f7d325102224784b803cbd659693c96": {
     "model_module": "@jupyter-widgets/controls",
     "model_module_version": "1.5.0",
     "model_name": "HBoxModel",
     "state": {
      "_dom_classes": [],
      "_model_module": "@jupyter-widgets/controls",
      "_model_module_version": "1.5.0",
      "_model_name": "HBoxModel",
      "_view_count": null,
      "_view_module": "@jupyter-widgets/controls",
      "_view_module_version": "1.5.0",
      "_view_name": "HBoxView",
      "box_style": "",
      "children": [
       "IPY_MODEL_2b873fe6b77e4b32bc95f96eda18b318",
       "IPY_MODEL_73bba28ff27a4eecaaf99c0fe361d181",
       "IPY_MODEL_455d014875fc445fb0b3c90a93eb414b"
      ],
      "layout": "IPY_MODEL_13c47957d1e942a787466b5ea85d10d7"
     }
    },
    "3740d9d26036445f94b0de16a1984e84": {
     "model_module": "@jupyter-widgets/base",
     "model_module_version": "1.2.0",
     "model_name": "LayoutModel",
     "state": {
      "_model_module": "@jupyter-widgets/base",
      "_model_module_version": "1.2.0",
      "_model_name": "LayoutModel",
      "_view_count": null,
      "_view_module": "@jupyter-widgets/base",
      "_view_module_version": "1.2.0",
      "_view_name": "LayoutView",
      "align_content": null,
      "align_items": null,
      "align_self": null,
      "border": null,
      "bottom": null,
      "display": null,
      "flex": null,
      "flex_flow": null,
      "grid_area": null,
      "grid_auto_columns": null,
      "grid_auto_flow": null,
      "grid_auto_rows": null,
      "grid_column": null,
      "grid_gap": null,
      "grid_row": null,
      "grid_template_areas": null,
      "grid_template_columns": null,
      "grid_template_rows": null,
      "height": null,
      "justify_content": null,
      "justify_items": null,
      "left": null,
      "margin": null,
      "max_height": null,
      "max_width": null,
      "min_height": null,
      "min_width": null,
      "object_fit": null,
      "object_position": null,
      "order": null,
      "overflow": null,
      "overflow_x": null,
      "overflow_y": null,
      "padding": null,
      "right": null,
      "top": null,
      "visibility": null,
      "width": null
     }
    },
    "398ca22952dd48e8b1ed676de2b8829e": {
     "model_module": "@jupyter-widgets/controls",
     "model_module_version": "1.5.0",
     "model_name": "HBoxModel",
     "state": {
      "_dom_classes": [],
      "_model_module": "@jupyter-widgets/controls",
      "_model_module_version": "1.5.0",
      "_model_name": "HBoxModel",
      "_view_count": null,
      "_view_module": "@jupyter-widgets/controls",
      "_view_module_version": "1.5.0",
      "_view_name": "HBoxView",
      "box_style": "",
      "children": [
       "IPY_MODEL_427956df8ea345209fa7dbac12175dce",
       "IPY_MODEL_70029d2b1f2d4f03bb9cccd0030b0ee7",
       "IPY_MODEL_25e104f080a04cc094504591445acb70"
      ],
      "layout": "IPY_MODEL_3740d9d26036445f94b0de16a1984e84"
     }
    },
    "404b151df8ee43d98a39e3c348993d3b": {
     "model_module": "@jupyter-widgets/controls",
     "model_module_version": "1.5.0",
     "model_name": "HBoxModel",
     "state": {
      "_dom_classes": [],
      "_model_module": "@jupyter-widgets/controls",
      "_model_module_version": "1.5.0",
      "_model_name": "HBoxModel",
      "_view_count": null,
      "_view_module": "@jupyter-widgets/controls",
      "_view_module_version": "1.5.0",
      "_view_name": "HBoxView",
      "box_style": "",
      "children": [
       "IPY_MODEL_a03375086a264d59976a2e5400539998",
       "IPY_MODEL_6f7ba323e33a4082a4cfb14a0a08b6e8",
       "IPY_MODEL_958ec92fb9ca4c46b52030c63c721a5e"
      ],
      "layout": "IPY_MODEL_2b40eb62133b4159bb8590081abbe0ae"
     }
    },
    "427956df8ea345209fa7dbac12175dce": {
     "model_module": "@jupyter-widgets/controls",
     "model_module_version": "1.5.0",
     "model_name": "HTMLModel",
     "state": {
      "_dom_classes": [],
      "_model_module": "@jupyter-widgets/controls",
      "_model_module_version": "1.5.0",
      "_model_name": "HTMLModel",
      "_view_count": null,
      "_view_module": "@jupyter-widgets/controls",
      "_view_module_version": "1.5.0",
      "_view_name": "HTMLView",
      "description": "",
      "description_tooltip": null,
      "layout": "IPY_MODEL_c15f613b71e5456bbfe3c3dbe26eaa40",
      "placeholder": "​",
      "style": "IPY_MODEL_90425237606049e4a3d4126e1e6fc0c3",
      "value": "tokenizer_config.json: 100%"
     }
    },
    "455d014875fc445fb0b3c90a93eb414b": {
     "model_module": "@jupyter-widgets/controls",
     "model_module_version": "1.5.0",
     "model_name": "HTMLModel",
     "state": {
      "_dom_classes": [],
      "_model_module": "@jupyter-widgets/controls",
      "_model_module_version": "1.5.0",
      "_model_name": "HTMLModel",
      "_view_count": null,
      "_view_module": "@jupyter-widgets/controls",
      "_view_module_version": "1.5.0",
      "_view_name": "HTMLView",
      "description": "",
      "description_tooltip": null,
      "layout": "IPY_MODEL_94575511f9314e0582bfb5f02bc65f7a",
      "placeholder": "​",
      "style": "IPY_MODEL_922099d3b84247319f2020cf46067533",
      "value": " 435/435 [00:00&lt;00:00, 31.3kB/s]"
     }
    },
    "458f37665c7f42179be3166812326475": {
     "model_module": "@jupyter-widgets/controls",
     "model_module_version": "1.5.0",
     "model_name": "ProgressStyleModel",
     "state": {
      "_model_module": "@jupyter-widgets/controls",
      "_model_module_version": "1.5.0",
      "_model_name": "ProgressStyleModel",
      "_view_count": null,
      "_view_module": "@jupyter-widgets/base",
      "_view_module_version": "1.2.0",
      "_view_name": "StyleView",
      "bar_color": null,
      "description_width": ""
     }
    },
    "4e31f84f740445a29ef82790526121b1": {
     "model_module": "@jupyter-widgets/base",
     "model_module_version": "1.2.0",
     "model_name": "LayoutModel",
     "state": {
      "_model_module": "@jupyter-widgets/base",
      "_model_module_version": "1.2.0",
      "_model_name": "LayoutModel",
      "_view_count": null,
      "_view_module": "@jupyter-widgets/base",
      "_view_module_version": "1.2.0",
      "_view_name": "LayoutView",
      "align_content": null,
      "align_items": null,
      "align_self": null,
      "border": null,
      "bottom": null,
      "display": null,
      "flex": null,
      "flex_flow": null,
      "grid_area": null,
      "grid_auto_columns": null,
      "grid_auto_flow": null,
      "grid_auto_rows": null,
      "grid_column": null,
      "grid_gap": null,
      "grid_row": null,
      "grid_template_areas": null,
      "grid_template_columns": null,
      "grid_template_rows": null,
      "height": null,
      "justify_content": null,
      "justify_items": null,
      "left": null,
      "margin": null,
      "max_height": null,
      "max_width": null,
      "min_height": null,
      "min_width": null,
      "object_fit": null,
      "object_position": null,
      "order": null,
      "overflow": null,
      "overflow_x": null,
      "overflow_y": null,
      "padding": null,
      "right": null,
      "top": null,
      "visibility": null,
      "width": null
     }
    },
    "4e4c8129604d434788e876491330195b": {
     "model_module": "@jupyter-widgets/controls",
     "model_module_version": "1.5.0",
     "model_name": "DescriptionStyleModel",
     "state": {
      "_model_module": "@jupyter-widgets/controls",
      "_model_module_version": "1.5.0",
      "_model_name": "DescriptionStyleModel",
      "_view_count": null,
      "_view_module": "@jupyter-widgets/base",
      "_view_module_version": "1.2.0",
      "_view_name": "StyleView",
      "description_width": ""
     }
    },
    "5c9f1162e64f4608a1c938c51c9c199a": {
     "model_module": "@jupyter-widgets/base",
     "model_module_version": "1.2.0",
     "model_name": "LayoutModel",
     "state": {
      "_model_module": "@jupyter-widgets/base",
      "_model_module_version": "1.2.0",
      "_model_name": "LayoutModel",
      "_view_count": null,
      "_view_module": "@jupyter-widgets/base",
      "_view_module_version": "1.2.0",
      "_view_name": "LayoutView",
      "align_content": null,
      "align_items": null,
      "align_self": null,
      "border": null,
      "bottom": null,
      "display": null,
      "flex": null,
      "flex_flow": null,
      "grid_area": null,
      "grid_auto_columns": null,
      "grid_auto_flow": null,
      "grid_auto_rows": null,
      "grid_column": null,
      "grid_gap": null,
      "grid_row": null,
      "grid_template_areas": null,
      "grid_template_columns": null,
      "grid_template_rows": null,
      "height": null,
      "justify_content": null,
      "justify_items": null,
      "left": null,
      "margin": null,
      "max_height": null,
      "max_width": null,
      "min_height": null,
      "min_width": null,
      "object_fit": null,
      "object_position": null,
      "order": null,
      "overflow": null,
      "overflow_x": null,
      "overflow_y": null,
      "padding": null,
      "right": null,
      "top": null,
      "visibility": null,
      "width": null
     }
    },
    "6f7ba323e33a4082a4cfb14a0a08b6e8": {
     "model_module": "@jupyter-widgets/controls",
     "model_module_version": "1.5.0",
     "model_name": "FloatProgressModel",
     "state": {
      "_dom_classes": [],
      "_model_module": "@jupyter-widgets/controls",
      "_model_module_version": "1.5.0",
      "_model_name": "FloatProgressModel",
      "_view_count": null,
      "_view_module": "@jupyter-widgets/controls",
      "_view_module_version": "1.5.0",
      "_view_name": "ProgressView",
      "bar_style": "success",
      "description": "",
      "description_tooltip": null,
      "layout": "IPY_MODEL_af9e8a8b297948f3be7cd4fd9e75b3d7",
      "max": 1842764,
      "min": 0,
      "orientation": "horizontal",
      "style": "IPY_MODEL_b5f4e0e8b85b4db097769655a77828ee",
      "value": 1842764
     }
    },
    "70029d2b1f2d4f03bb9cccd0030b0ee7": {
     "model_module": "@jupyter-widgets/controls",
     "model_module_version": "1.5.0",
     "model_name": "FloatProgressModel",
     "state": {
      "_dom_classes": [],
      "_model_module": "@jupyter-widgets/controls",
      "_model_module_version": "1.5.0",
      "_model_name": "FloatProgressModel",
      "_view_count": null,
      "_view_module": "@jupyter-widgets/controls",
      "_view_module_version": "1.5.0",
      "_view_name": "ProgressView",
      "bar_style": "success",
      "description": "",
      "description_tooltip": null,
      "layout": "IPY_MODEL_d9c1637ebe594d46b75dcc93738f31f5",
      "max": 746,
      "min": 0,
      "orientation": "horizontal",
      "style": "IPY_MODEL_be9713dcf92949e3adb7b1d2a5ec1755",
      "value": 746
     }
    },
    "73bba28ff27a4eecaaf99c0fe361d181": {
     "model_module": "@jupyter-widgets/controls",
     "model_module_version": "1.5.0",
     "model_name": "FloatProgressModel",
     "state": {
      "_dom_classes": [],
      "_model_module": "@jupyter-widgets/controls",
      "_model_module_version": "1.5.0",
      "_model_name": "FloatProgressModel",
      "_view_count": null,
      "_view_module": "@jupyter-widgets/controls",
      "_view_module_version": "1.5.0",
      "_view_name": "ProgressView",
      "bar_style": "success",
      "description": "",
      "description_tooltip": null,
      "layout": "IPY_MODEL_79f9c6f9aae141f486c322fd695e387d",
      "max": 435,
      "min": 0,
      "orientation": "horizontal",
      "style": "IPY_MODEL_86be0329b58a4ae88cc24d15ba461e48",
      "value": 435
     }
    },
    "7401e7ecc0114b3e9a136f41e2aee7b9": {
     "model_module": "@jupyter-widgets/controls",
     "model_module_version": "1.5.0",
     "model_name": "HTMLModel",
     "state": {
      "_dom_classes": [],
      "_model_module": "@jupyter-widgets/controls",
      "_model_module_version": "1.5.0",
      "_model_name": "HTMLModel",
      "_view_count": null,
      "_view_module": "@jupyter-widgets/controls",
      "_view_module_version": "1.5.0",
      "_view_name": "HTMLView",
      "description": "",
      "description_tooltip": null,
      "layout": "IPY_MODEL_c9d1fe97cc494327b4e68c32644f5b87",
      "placeholder": "​",
      "style": "IPY_MODEL_8f5451c875ec43f1bb6c811691a1bcee",
      "value": " 21.0/21.0 [00:00&lt;00:00, 1.58kB/s]"
     }
    },
    "79f9c6f9aae141f486c322fd695e387d": {
     "model_module": "@jupyter-widgets/base",
     "model_module_version": "1.2.0",
     "model_name": "LayoutModel",
     "state": {
      "_model_module": "@jupyter-widgets/base",
      "_model_module_version": "1.2.0",
      "_model_name": "LayoutModel",
      "_view_count": null,
      "_view_module": "@jupyter-widgets/base",
      "_view_module_version": "1.2.0",
      "_view_name": "LayoutView",
      "align_content": null,
      "align_items": null,
      "align_self": null,
      "border": null,
      "bottom": null,
      "display": null,
      "flex": null,
      "flex_flow": null,
      "grid_area": null,
      "grid_auto_columns": null,
      "grid_auto_flow": null,
      "grid_auto_rows": null,
      "grid_column": null,
      "grid_gap": null,
      "grid_row": null,
      "grid_template_areas": null,
      "grid_template_columns": null,
      "grid_template_rows": null,
      "height": null,
      "justify_content": null,
      "justify_items": null,
      "left": null,
      "margin": null,
      "max_height": null,
      "max_width": null,
      "min_height": null,
      "min_width": null,
      "object_fit": null,
      "object_position": null,
      "order": null,
      "overflow": null,
      "overflow_x": null,
      "overflow_y": null,
      "padding": null,
      "right": null,
      "top": null,
      "visibility": null,
      "width": null
     }
    },
    "7d3de6d08445496aaebebb9d123157b8": {
     "model_module": "@jupyter-widgets/controls",
     "model_module_version": "1.5.0",
     "model_name": "FloatProgressModel",
     "state": {
      "_dom_classes": [],
      "_model_module": "@jupyter-widgets/controls",
      "_model_module_version": "1.5.0",
      "_model_name": "FloatProgressModel",
      "_view_count": null,
      "_view_module": "@jupyter-widgets/controls",
      "_view_module_version": "1.5.0",
      "_view_name": "ProgressView",
      "bar_style": "success",
      "description": "",
      "description_tooltip": null,
      "layout": "IPY_MODEL_8eddbbab7eaa4d5bb5af9381bb3abf83",
      "max": 499723,
      "min": 0,
      "orientation": "horizontal",
      "style": "IPY_MODEL_e34548960e784d668a570b0d8ee152c1",
      "value": 499723
     }
    },
    "81b6d2542b8a4bcc8c74a158f2e3d968": {
     "model_module": "@jupyter-widgets/base",
     "model_module_version": "1.2.0",
     "model_name": "LayoutModel",
     "state": {
      "_model_module": "@jupyter-widgets/base",
      "_model_module_version": "1.2.0",
      "_model_name": "LayoutModel",
      "_view_count": null,
      "_view_module": "@jupyter-widgets/base",
      "_view_module_version": "1.2.0",
      "_view_name": "LayoutView",
      "align_content": null,
      "align_items": null,
      "align_self": null,
      "border": null,
      "bottom": null,
      "display": null,
      "flex": null,
      "flex_flow": null,
      "grid_area": null,
      "grid_auto_columns": null,
      "grid_auto_flow": null,
      "grid_auto_rows": null,
      "grid_column": null,
      "grid_gap": null,
      "grid_row": null,
      "grid_template_areas": null,
      "grid_template_columns": null,
      "grid_template_rows": null,
      "height": null,
      "justify_content": null,
      "justify_items": null,
      "left": null,
      "margin": null,
      "max_height": null,
      "max_width": null,
      "min_height": null,
      "min_width": null,
      "object_fit": null,
      "object_position": null,
      "order": null,
      "overflow": null,
      "overflow_x": null,
      "overflow_y": null,
      "padding": null,
      "right": null,
      "top": null,
      "visibility": null,
      "width": null
     }
    },
    "83cf2b1b85164a1a8d232cab05c1c6ee": {
     "model_module": "@jupyter-widgets/base",
     "model_module_version": "1.2.0",
     "model_name": "LayoutModel",
     "state": {
      "_model_module": "@jupyter-widgets/base",
      "_model_module_version": "1.2.0",
      "_model_name": "LayoutModel",
      "_view_count": null,
      "_view_module": "@jupyter-widgets/base",
      "_view_module_version": "1.2.0",
      "_view_name": "LayoutView",
      "align_content": null,
      "align_items": null,
      "align_self": null,
      "border": null,
      "bottom": null,
      "display": null,
      "flex": null,
      "flex_flow": null,
      "grid_area": null,
      "grid_auto_columns": null,
      "grid_auto_flow": null,
      "grid_auto_rows": null,
      "grid_column": null,
      "grid_gap": null,
      "grid_row": null,
      "grid_template_areas": null,
      "grid_template_columns": null,
      "grid_template_rows": null,
      "height": null,
      "justify_content": null,
      "justify_items": null,
      "left": null,
      "margin": null,
      "max_height": null,
      "max_width": null,
      "min_height": null,
      "min_width": null,
      "object_fit": null,
      "object_position": null,
      "order": null,
      "overflow": null,
      "overflow_x": null,
      "overflow_y": null,
      "padding": null,
      "right": null,
      "top": null,
      "visibility": null,
      "width": null
     }
    },
    "8444449e477a4affa75295fd4e514b6b": {
     "model_module": "@jupyter-widgets/base",
     "model_module_version": "1.2.0",
     "model_name": "LayoutModel",
     "state": {
      "_model_module": "@jupyter-widgets/base",
      "_model_module_version": "1.2.0",
      "_model_name": "LayoutModel",
      "_view_count": null,
      "_view_module": "@jupyter-widgets/base",
      "_view_module_version": "1.2.0",
      "_view_name": "LayoutView",
      "align_content": null,
      "align_items": null,
      "align_self": null,
      "border": null,
      "bottom": null,
      "display": null,
      "flex": null,
      "flex_flow": null,
      "grid_area": null,
      "grid_auto_columns": null,
      "grid_auto_flow": null,
      "grid_auto_rows": null,
      "grid_column": null,
      "grid_gap": null,
      "grid_row": null,
      "grid_template_areas": null,
      "grid_template_columns": null,
      "grid_template_rows": null,
      "height": null,
      "justify_content": null,
      "justify_items": null,
      "left": null,
      "margin": null,
      "max_height": null,
      "max_width": null,
      "min_height": null,
      "min_width": null,
      "object_fit": null,
      "object_position": null,
      "order": null,
      "overflow": null,
      "overflow_x": null,
      "overflow_y": null,
      "padding": null,
      "right": null,
      "top": null,
      "visibility": null,
      "width": null
     }
    },
    "86be0329b58a4ae88cc24d15ba461e48": {
     "model_module": "@jupyter-widgets/controls",
     "model_module_version": "1.5.0",
     "model_name": "ProgressStyleModel",
     "state": {
      "_model_module": "@jupyter-widgets/controls",
      "_model_module_version": "1.5.0",
      "_model_name": "ProgressStyleModel",
      "_view_count": null,
      "_view_module": "@jupyter-widgets/base",
      "_view_module_version": "1.2.0",
      "_view_name": "StyleView",
      "bar_color": null,
      "description_width": ""
     }
    },
    "8a608f5bcb034d3bab88ef4e8b6df3db": {
     "model_module": "@jupyter-widgets/controls",
     "model_module_version": "1.5.0",
     "model_name": "DescriptionStyleModel",
     "state": {
      "_model_module": "@jupyter-widgets/controls",
      "_model_module_version": "1.5.0",
      "_model_name": "DescriptionStyleModel",
      "_view_count": null,
      "_view_module": "@jupyter-widgets/base",
      "_view_module_version": "1.2.0",
      "_view_name": "StyleView",
      "description_width": ""
     }
    },
    "8e2d70e71c534e0ea8f62194a534364a": {
     "model_module": "@jupyter-widgets/controls",
     "model_module_version": "1.5.0",
     "model_name": "DescriptionStyleModel",
     "state": {
      "_model_module": "@jupyter-widgets/controls",
      "_model_module_version": "1.5.0",
      "_model_name": "DescriptionStyleModel",
      "_view_count": null,
      "_view_module": "@jupyter-widgets/base",
      "_view_module_version": "1.2.0",
      "_view_name": "StyleView",
      "description_width": ""
     }
    },
    "8eddbbab7eaa4d5bb5af9381bb3abf83": {
     "model_module": "@jupyter-widgets/base",
     "model_module_version": "1.2.0",
     "model_name": "LayoutModel",
     "state": {
      "_model_module": "@jupyter-widgets/base",
      "_model_module_version": "1.2.0",
      "_model_name": "LayoutModel",
      "_view_count": null,
      "_view_module": "@jupyter-widgets/base",
      "_view_module_version": "1.2.0",
      "_view_name": "LayoutView",
      "align_content": null,
      "align_items": null,
      "align_self": null,
      "border": null,
      "bottom": null,
      "display": null,
      "flex": null,
      "flex_flow": null,
      "grid_area": null,
      "grid_auto_columns": null,
      "grid_auto_flow": null,
      "grid_auto_rows": null,
      "grid_column": null,
      "grid_gap": null,
      "grid_row": null,
      "grid_template_areas": null,
      "grid_template_columns": null,
      "grid_template_rows": null,
      "height": null,
      "justify_content": null,
      "justify_items": null,
      "left": null,
      "margin": null,
      "max_height": null,
      "max_width": null,
      "min_height": null,
      "min_width": null,
      "object_fit": null,
      "object_position": null,
      "order": null,
      "overflow": null,
      "overflow_x": null,
      "overflow_y": null,
      "padding": null,
      "right": null,
      "top": null,
      "visibility": null,
      "width": null
     }
    },
    "8f5451c875ec43f1bb6c811691a1bcee": {
     "model_module": "@jupyter-widgets/controls",
     "model_module_version": "1.5.0",
     "model_name": "DescriptionStyleModel",
     "state": {
      "_model_module": "@jupyter-widgets/controls",
      "_model_module_version": "1.5.0",
      "_model_name": "DescriptionStyleModel",
      "_view_count": null,
      "_view_module": "@jupyter-widgets/base",
      "_view_module_version": "1.2.0",
      "_view_name": "StyleView",
      "description_width": ""
     }
    },
    "90425237606049e4a3d4126e1e6fc0c3": {
     "model_module": "@jupyter-widgets/controls",
     "model_module_version": "1.5.0",
     "model_name": "DescriptionStyleModel",
     "state": {
      "_model_module": "@jupyter-widgets/controls",
      "_model_module_version": "1.5.0",
      "_model_name": "DescriptionStyleModel",
      "_view_count": null,
      "_view_module": "@jupyter-widgets/base",
      "_view_module_version": "1.2.0",
      "_view_name": "StyleView",
      "description_width": ""
     }
    },
    "922099d3b84247319f2020cf46067533": {
     "model_module": "@jupyter-widgets/controls",
     "model_module_version": "1.5.0",
     "model_name": "DescriptionStyleModel",
     "state": {
      "_model_module": "@jupyter-widgets/controls",
      "_model_module_version": "1.5.0",
      "_model_name": "DescriptionStyleModel",
      "_view_count": null,
      "_view_module": "@jupyter-widgets/base",
      "_view_module_version": "1.2.0",
      "_view_name": "StyleView",
      "description_width": ""
     }
    },
    "92f20d43ac674de38b51abf26c4e67e6": {
     "model_module": "@jupyter-widgets/controls",
     "model_module_version": "1.5.0",
     "model_name": "DescriptionStyleModel",
     "state": {
      "_model_module": "@jupyter-widgets/controls",
      "_model_module_version": "1.5.0",
      "_model_name": "DescriptionStyleModel",
      "_view_count": null,
      "_view_module": "@jupyter-widgets/base",
      "_view_module_version": "1.2.0",
      "_view_name": "StyleView",
      "description_width": ""
     }
    },
    "94575511f9314e0582bfb5f02bc65f7a": {
     "model_module": "@jupyter-widgets/base",
     "model_module_version": "1.2.0",
     "model_name": "LayoutModel",
     "state": {
      "_model_module": "@jupyter-widgets/base",
      "_model_module_version": "1.2.0",
      "_model_name": "LayoutModel",
      "_view_count": null,
      "_view_module": "@jupyter-widgets/base",
      "_view_module_version": "1.2.0",
      "_view_name": "LayoutView",
      "align_content": null,
      "align_items": null,
      "align_self": null,
      "border": null,
      "bottom": null,
      "display": null,
      "flex": null,
      "flex_flow": null,
      "grid_area": null,
      "grid_auto_columns": null,
      "grid_auto_flow": null,
      "grid_auto_rows": null,
      "grid_column": null,
      "grid_gap": null,
      "grid_row": null,
      "grid_template_areas": null,
      "grid_template_columns": null,
      "grid_template_rows": null,
      "height": null,
      "justify_content": null,
      "justify_items": null,
      "left": null,
      "margin": null,
      "max_height": null,
      "max_width": null,
      "min_height": null,
      "min_width": null,
      "object_fit": null,
      "object_position": null,
      "order": null,
      "overflow": null,
      "overflow_x": null,
      "overflow_y": null,
      "padding": null,
      "right": null,
      "top": null,
      "visibility": null,
      "width": null
     }
    },
    "958ec92fb9ca4c46b52030c63c721a5e": {
     "model_module": "@jupyter-widgets/controls",
     "model_module_version": "1.5.0",
     "model_name": "HTMLModel",
     "state": {
      "_dom_classes": [],
      "_model_module": "@jupyter-widgets/controls",
      "_model_module_version": "1.5.0",
      "_model_name": "HTMLModel",
      "_view_count": null,
      "_view_module": "@jupyter-widgets/controls",
      "_view_module_version": "1.5.0",
      "_view_name": "HTMLView",
      "description": "",
      "description_tooltip": null,
      "layout": "IPY_MODEL_8444449e477a4affa75295fd4e514b6b",
      "placeholder": "​",
      "style": "IPY_MODEL_1ce520d5117742d6a7bcadb1d8ce8f84",
      "value": " 1.84M/1.84M [00:00&lt;00:00, 4.70MB/s]"
     }
    },
    "9b0d409aba0447378506a0b097f1565b": {
     "model_module": "@jupyter-widgets/controls",
     "model_module_version": "1.5.0",
     "model_name": "HTMLModel",
     "state": {
      "_dom_classes": [],
      "_model_module": "@jupyter-widgets/controls",
      "_model_module_version": "1.5.0",
      "_model_name": "HTMLModel",
      "_view_count": null,
      "_view_module": "@jupyter-widgets/controls",
      "_view_module_version": "1.5.0",
      "_view_name": "HTMLView",
      "description": "",
      "description_tooltip": null,
      "layout": "IPY_MODEL_4e31f84f740445a29ef82790526121b1",
      "placeholder": "​",
      "style": "IPY_MODEL_92f20d43ac674de38b51abf26c4e67e6",
      "value": "added_tokens.json: 100%"
     }
    },
    "9bcc5224b72f4821bdf23b18ac650ea0": {
     "model_module": "@jupyter-widgets/base",
     "model_module_version": "1.2.0",
     "model_name": "LayoutModel",
     "state": {
      "_model_module": "@jupyter-widgets/base",
      "_model_module_version": "1.2.0",
      "_model_name": "LayoutModel",
      "_view_count": null,
      "_view_module": "@jupyter-widgets/base",
      "_view_module_version": "1.2.0",
      "_view_name": "LayoutView",
      "align_content": null,
      "align_items": null,
      "align_self": null,
      "border": null,
      "bottom": null,
      "display": null,
      "flex": null,
      "flex_flow": null,
      "grid_area": null,
      "grid_auto_columns": null,
      "grid_auto_flow": null,
      "grid_auto_rows": null,
      "grid_column": null,
      "grid_gap": null,
      "grid_row": null,
      "grid_template_areas": null,
      "grid_template_columns": null,
      "grid_template_rows": null,
      "height": null,
      "justify_content": null,
      "justify_items": null,
      "left": null,
      "margin": null,
      "max_height": null,
      "max_width": null,
      "min_height": null,
      "min_width": null,
      "object_fit": null,
      "object_position": null,
      "order": null,
      "overflow": null,
      "overflow_x": null,
      "overflow_y": null,
      "padding": null,
      "right": null,
      "top": null,
      "visibility": null,
      "width": null
     }
    },
    "a03375086a264d59976a2e5400539998": {
     "model_module": "@jupyter-widgets/controls",
     "model_module_version": "1.5.0",
     "model_name": "HTMLModel",
     "state": {
      "_dom_classes": [],
      "_model_module": "@jupyter-widgets/controls",
      "_model_module_version": "1.5.0",
      "_model_name": "HTMLModel",
      "_view_count": null,
      "_view_module": "@jupyter-widgets/controls",
      "_view_module_version": "1.5.0",
      "_view_name": "HTMLView",
      "description": "",
      "description_tooltip": null,
      "layout": "IPY_MODEL_fc55609cb32d4a069904d11737d81806",
      "placeholder": "​",
      "style": "IPY_MODEL_8e2d70e71c534e0ea8f62194a534364a",
      "value": "tokenizer.json: 100%"
     }
    },
    "ad6c8a528b104426945c2c50c180781d": {
     "model_module": "@jupyter-widgets/base",
     "model_module_version": "1.2.0",
     "model_name": "LayoutModel",
     "state": {
      "_model_module": "@jupyter-widgets/base",
      "_model_module_version": "1.2.0",
      "_model_name": "LayoutModel",
      "_view_count": null,
      "_view_module": "@jupyter-widgets/base",
      "_view_module_version": "1.2.0",
      "_view_name": "LayoutView",
      "align_content": null,
      "align_items": null,
      "align_self": null,
      "border": null,
      "bottom": null,
      "display": null,
      "flex": null,
      "flex_flow": null,
      "grid_area": null,
      "grid_auto_columns": null,
      "grid_auto_flow": null,
      "grid_auto_rows": null,
      "grid_column": null,
      "grid_gap": null,
      "grid_row": null,
      "grid_template_areas": null,
      "grid_template_columns": null,
      "grid_template_rows": null,
      "height": null,
      "justify_content": null,
      "justify_items": null,
      "left": null,
      "margin": null,
      "max_height": null,
      "max_width": null,
      "min_height": null,
      "min_width": null,
      "object_fit": null,
      "object_position": null,
      "order": null,
      "overflow": null,
      "overflow_x": null,
      "overflow_y": null,
      "padding": null,
      "right": null,
      "top": null,
      "visibility": null,
      "width": null
     }
    },
    "af9e8a8b297948f3be7cd4fd9e75b3d7": {
     "model_module": "@jupyter-widgets/base",
     "model_module_version": "1.2.0",
     "model_name": "LayoutModel",
     "state": {
      "_model_module": "@jupyter-widgets/base",
      "_model_module_version": "1.2.0",
      "_model_name": "LayoutModel",
      "_view_count": null,
      "_view_module": "@jupyter-widgets/base",
      "_view_module_version": "1.2.0",
      "_view_name": "LayoutView",
      "align_content": null,
      "align_items": null,
      "align_self": null,
      "border": null,
      "bottom": null,
      "display": null,
      "flex": null,
      "flex_flow": null,
      "grid_area": null,
      "grid_auto_columns": null,
      "grid_auto_flow": null,
      "grid_auto_rows": null,
      "grid_column": null,
      "grid_gap": null,
      "grid_row": null,
      "grid_template_areas": null,
      "grid_template_columns": null,
      "grid_template_rows": null,
      "height": null,
      "justify_content": null,
      "justify_items": null,
      "left": null,
      "margin": null,
      "max_height": null,
      "max_width": null,
      "min_height": null,
      "min_width": null,
      "object_fit": null,
      "object_position": null,
      "order": null,
      "overflow": null,
      "overflow_x": null,
      "overflow_y": null,
      "padding": null,
      "right": null,
      "top": null,
      "visibility": null,
      "width": null
     }
    },
    "b5f4e0e8b85b4db097769655a77828ee": {
     "model_module": "@jupyter-widgets/controls",
     "model_module_version": "1.5.0",
     "model_name": "ProgressStyleModel",
     "state": {
      "_model_module": "@jupyter-widgets/controls",
      "_model_module_version": "1.5.0",
      "_model_name": "ProgressStyleModel",
      "_view_count": null,
      "_view_module": "@jupyter-widgets/base",
      "_view_module_version": "1.2.0",
      "_view_name": "StyleView",
      "bar_color": null,
      "description_width": ""
     }
    },
    "be9713dcf92949e3adb7b1d2a5ec1755": {
     "model_module": "@jupyter-widgets/controls",
     "model_module_version": "1.5.0",
     "model_name": "ProgressStyleModel",
     "state": {
      "_model_module": "@jupyter-widgets/controls",
      "_model_module_version": "1.5.0",
      "_model_name": "ProgressStyleModel",
      "_view_count": null,
      "_view_module": "@jupyter-widgets/base",
      "_view_module_version": "1.2.0",
      "_view_name": "StyleView",
      "bar_color": null,
      "description_width": ""
     }
    },
    "c15f613b71e5456bbfe3c3dbe26eaa40": {
     "model_module": "@jupyter-widgets/base",
     "model_module_version": "1.2.0",
     "model_name": "LayoutModel",
     "state": {
      "_model_module": "@jupyter-widgets/base",
      "_model_module_version": "1.2.0",
      "_model_name": "LayoutModel",
      "_view_count": null,
      "_view_module": "@jupyter-widgets/base",
      "_view_module_version": "1.2.0",
      "_view_name": "LayoutView",
      "align_content": null,
      "align_items": null,
      "align_self": null,
      "border": null,
      "bottom": null,
      "display": null,
      "flex": null,
      "flex_flow": null,
      "grid_area": null,
      "grid_auto_columns": null,
      "grid_auto_flow": null,
      "grid_auto_rows": null,
      "grid_column": null,
      "grid_gap": null,
      "grid_row": null,
      "grid_template_areas": null,
      "grid_template_columns": null,
      "grid_template_rows": null,
      "height": null,
      "justify_content": null,
      "justify_items": null,
      "left": null,
      "margin": null,
      "max_height": null,
      "max_width": null,
      "min_height": null,
      "min_width": null,
      "object_fit": null,
      "object_position": null,
      "order": null,
      "overflow": null,
      "overflow_x": null,
      "overflow_y": null,
      "padding": null,
      "right": null,
      "top": null,
      "visibility": null,
      "width": null
     }
    },
    "c9d1fe97cc494327b4e68c32644f5b87": {
     "model_module": "@jupyter-widgets/base",
     "model_module_version": "1.2.0",
     "model_name": "LayoutModel",
     "state": {
      "_model_module": "@jupyter-widgets/base",
      "_model_module_version": "1.2.0",
      "_model_name": "LayoutModel",
      "_view_count": null,
      "_view_module": "@jupyter-widgets/base",
      "_view_module_version": "1.2.0",
      "_view_name": "LayoutView",
      "align_content": null,
      "align_items": null,
      "align_self": null,
      "border": null,
      "bottom": null,
      "display": null,
      "flex": null,
      "flex_flow": null,
      "grid_area": null,
      "grid_auto_columns": null,
      "grid_auto_flow": null,
      "grid_auto_rows": null,
      "grid_column": null,
      "grid_gap": null,
      "grid_row": null,
      "grid_template_areas": null,
      "grid_template_columns": null,
      "grid_template_rows": null,
      "height": null,
      "justify_content": null,
      "justify_items": null,
      "left": null,
      "margin": null,
      "max_height": null,
      "max_width": null,
      "min_height": null,
      "min_width": null,
      "object_fit": null,
      "object_position": null,
      "order": null,
      "overflow": null,
      "overflow_x": null,
      "overflow_y": null,
      "padding": null,
      "right": null,
      "top": null,
      "visibility": null,
      "width": null
     }
    },
    "d02da09958464346aaac4931dd7bff43": {
     "model_module": "@jupyter-widgets/controls",
     "model_module_version": "1.5.0",
     "model_name": "HBoxModel",
     "state": {
      "_dom_classes": [],
      "_model_module": "@jupyter-widgets/controls",
      "_model_module_version": "1.5.0",
      "_model_name": "HBoxModel",
      "_view_count": null,
      "_view_module": "@jupyter-widgets/controls",
      "_view_module_version": "1.5.0",
      "_view_name": "HBoxView",
      "box_style": "",
      "children": [
       "IPY_MODEL_d68c40c526e24727970404138f6ba188",
       "IPY_MODEL_e6ae410aa3a74cefb400882ebd3fa9bd",
       "IPY_MODEL_df93a39da1044692adbfbca694ab0be9"
      ],
      "layout": "IPY_MODEL_29eb91f2ed3b43838743b3363bd81b18"
     }
    },
    "d49c4a074b5b45f6ad6b5a99010eabf5": {
     "model_module": "@jupyter-widgets/controls",
     "model_module_version": "1.5.0",
     "model_name": "HBoxModel",
     "state": {
      "_dom_classes": [],
      "_model_module": "@jupyter-widgets/controls",
      "_model_module_version": "1.5.0",
      "_model_name": "HBoxModel",
      "_view_count": null,
      "_view_module": "@jupyter-widgets/controls",
      "_view_module_version": "1.5.0",
      "_view_name": "HBoxView",
      "box_style": "",
      "children": [
       "IPY_MODEL_9b0d409aba0447378506a0b097f1565b",
       "IPY_MODEL_fe65375e50d74ed18fbbcb5a1d81f797",
       "IPY_MODEL_7401e7ecc0114b3e9a136f41e2aee7b9"
      ],
      "layout": "IPY_MODEL_9bcc5224b72f4821bdf23b18ac650ea0"
     }
    },
    "d68c40c526e24727970404138f6ba188": {
     "model_module": "@jupyter-widgets/controls",
     "model_module_version": "1.5.0",
     "model_name": "HTMLModel",
     "state": {
      "_dom_classes": [],
      "_model_module": "@jupyter-widgets/controls",
      "_model_module_version": "1.5.0",
      "_model_name": "HTMLModel",
      "_view_count": null,
      "_view_module": "@jupyter-widgets/controls",
      "_view_module_version": "1.5.0",
      "_view_name": "HTMLView",
      "description": "",
      "description_tooltip": null,
      "layout": "IPY_MODEL_015207e276e64efc898891c86c277539",
      "placeholder": "​",
      "style": "IPY_MODEL_8a608f5bcb034d3bab88ef4e8b6df3db",
      "value": "Loading checkpoint shards: 100%"
     }
    },
    "d93d04727f8d4504af6a836a8219d3d4": {
     "model_module": "@jupyter-widgets/controls",
     "model_module_version": "1.5.0",
     "model_name": "DescriptionStyleModel",
     "state": {
      "_model_module": "@jupyter-widgets/controls",
      "_model_module_version": "1.5.0",
      "_model_name": "DescriptionStyleModel",
      "_view_count": null,
      "_view_module": "@jupyter-widgets/base",
      "_view_module_version": "1.2.0",
      "_view_name": "StyleView",
      "description_width": ""
     }
    },
    "d9c1637ebe594d46b75dcc93738f31f5": {
     "model_module": "@jupyter-widgets/base",
     "model_module_version": "1.2.0",
     "model_name": "LayoutModel",
     "state": {
      "_model_module": "@jupyter-widgets/base",
      "_model_module_version": "1.2.0",
      "_model_name": "LayoutModel",
      "_view_count": null,
      "_view_module": "@jupyter-widgets/base",
      "_view_module_version": "1.2.0",
      "_view_name": "LayoutView",
      "align_content": null,
      "align_items": null,
      "align_self": null,
      "border": null,
      "bottom": null,
      "display": null,
      "flex": null,
      "flex_flow": null,
      "grid_area": null,
      "grid_auto_columns": null,
      "grid_auto_flow": null,
      "grid_auto_rows": null,
      "grid_column": null,
      "grid_gap": null,
      "grid_row": null,
      "grid_template_areas": null,
      "grid_template_columns": null,
      "grid_template_rows": null,
      "height": null,
      "justify_content": null,
      "justify_items": null,
      "left": null,
      "margin": null,
      "max_height": null,
      "max_width": null,
      "min_height": null,
      "min_width": null,
      "object_fit": null,
      "object_position": null,
      "order": null,
      "overflow": null,
      "overflow_x": null,
      "overflow_y": null,
      "padding": null,
      "right": null,
      "top": null,
      "visibility": null,
      "width": null
     }
    },
    "dacdad01725b404c9b82e18acec5a2d1": {
     "model_module": "@jupyter-widgets/controls",
     "model_module_version": "1.5.0",
     "model_name": "ProgressStyleModel",
     "state": {
      "_model_module": "@jupyter-widgets/controls",
      "_model_module_version": "1.5.0",
      "_model_name": "ProgressStyleModel",
      "_view_count": null,
      "_view_module": "@jupyter-widgets/base",
      "_view_module_version": "1.2.0",
      "_view_name": "StyleView",
      "bar_color": null,
      "description_width": ""
     }
    },
    "df93a39da1044692adbfbca694ab0be9": {
     "model_module": "@jupyter-widgets/controls",
     "model_module_version": "1.5.0",
     "model_name": "HTMLModel",
     "state": {
      "_dom_classes": [],
      "_model_module": "@jupyter-widgets/controls",
      "_model_module_version": "1.5.0",
      "_model_name": "HTMLModel",
      "_view_count": null,
      "_view_module": "@jupyter-widgets/controls",
      "_view_module_version": "1.5.0",
      "_view_name": "HTMLView",
      "description": "",
      "description_tooltip": null,
      "layout": "IPY_MODEL_ad6c8a528b104426945c2c50c180781d",
      "placeholder": "​",
      "style": "IPY_MODEL_0196bac355a04836adceae46830be525",
      "value": " 2/2 [01:01&lt;00:00, 28.41s/it]"
     }
    },
    "e34548960e784d668a570b0d8ee152c1": {
     "model_module": "@jupyter-widgets/controls",
     "model_module_version": "1.5.0",
     "model_name": "ProgressStyleModel",
     "state": {
      "_model_module": "@jupyter-widgets/controls",
      "_model_module_version": "1.5.0",
      "_model_name": "ProgressStyleModel",
      "_view_count": null,
      "_view_module": "@jupyter-widgets/base",
      "_view_module_version": "1.2.0",
      "_view_name": "StyleView",
      "bar_color": null,
      "description_width": ""
     }
    },
    "e6ae410aa3a74cefb400882ebd3fa9bd": {
     "model_module": "@jupyter-widgets/controls",
     "model_module_version": "1.5.0",
     "model_name": "FloatProgressModel",
     "state": {
      "_dom_classes": [],
      "_model_module": "@jupyter-widgets/controls",
      "_model_module_version": "1.5.0",
      "_model_name": "FloatProgressModel",
      "_view_count": null,
      "_view_module": "@jupyter-widgets/controls",
      "_view_module_version": "1.5.0",
      "_view_name": "ProgressView",
      "bar_style": "success",
      "description": "",
      "description_tooltip": null,
      "layout": "IPY_MODEL_5c9f1162e64f4608a1c938c51c9c199a",
      "max": 2,
      "min": 0,
      "orientation": "horizontal",
      "style": "IPY_MODEL_dacdad01725b404c9b82e18acec5a2d1",
      "value": 2
     }
    },
    "fb19b8f439654618a2dbf7856bbc1922": {
     "model_module": "@jupyter-widgets/controls",
     "model_module_version": "1.5.0",
     "model_name": "HBoxModel",
     "state": {
      "_dom_classes": [],
      "_model_module": "@jupyter-widgets/controls",
      "_model_module_version": "1.5.0",
      "_model_name": "HBoxModel",
      "_view_count": null,
      "_view_module": "@jupyter-widgets/controls",
      "_view_module_version": "1.5.0",
      "_view_name": "HBoxView",
      "box_style": "",
      "children": [
       "IPY_MODEL_fbefe339b2b046808cf5bd03470eae2f",
       "IPY_MODEL_7d3de6d08445496aaebebb9d123157b8",
       "IPY_MODEL_041c51f4844d461fa1eafffe00791ba7"
      ],
      "layout": "IPY_MODEL_2af8529a7aef43aeb1bee786b0b1b5f0"
     }
    },
    "fbefe339b2b046808cf5bd03470eae2f": {
     "model_module": "@jupyter-widgets/controls",
     "model_module_version": "1.5.0",
     "model_name": "HTMLModel",
     "state": {
      "_dom_classes": [],
      "_model_module": "@jupyter-widgets/controls",
      "_model_module_version": "1.5.0",
      "_model_name": "HTMLModel",
      "_view_count": null,
      "_view_module": "@jupyter-widgets/controls",
      "_view_module_version": "1.5.0",
      "_view_name": "HTMLView",
      "description": "",
      "description_tooltip": null,
      "layout": "IPY_MODEL_81b6d2542b8a4bcc8c74a158f2e3d968",
      "placeholder": "​",
      "style": "IPY_MODEL_0a78676fa4634d60b407cc57d597dd0b",
      "value": "tokenizer.model: 100%"
     }
    },
    "fc55609cb32d4a069904d11737d81806": {
     "model_module": "@jupyter-widgets/base",
     "model_module_version": "1.2.0",
     "model_name": "LayoutModel",
     "state": {
      "_model_module": "@jupyter-widgets/base",
      "_model_module_version": "1.2.0",
      "_model_name": "LayoutModel",
      "_view_count": null,
      "_view_module": "@jupyter-widgets/base",
      "_view_module_version": "1.2.0",
      "_view_name": "LayoutView",
      "align_content": null,
      "align_items": null,
      "align_self": null,
      "border": null,
      "bottom": null,
      "display": null,
      "flex": null,
      "flex_flow": null,
      "grid_area": null,
      "grid_auto_columns": null,
      "grid_auto_flow": null,
      "grid_auto_rows": null,
      "grid_column": null,
      "grid_gap": null,
      "grid_row": null,
      "grid_template_areas": null,
      "grid_template_columns": null,
      "grid_template_rows": null,
      "height": null,
      "justify_content": null,
      "justify_items": null,
      "left": null,
      "margin": null,
      "max_height": null,
      "max_width": null,
      "min_height": null,
      "min_width": null,
      "object_fit": null,
      "object_position": null,
      "order": null,
      "overflow": null,
      "overflow_x": null,
      "overflow_y": null,
      "padding": null,
      "right": null,
      "top": null,
      "visibility": null,
      "width": null
     }
    },
    "fe65375e50d74ed18fbbcb5a1d81f797": {
     "model_module": "@jupyter-widgets/controls",
     "model_module_version": "1.5.0",
     "model_name": "FloatProgressModel",
     "state": {
      "_dom_classes": [],
      "_model_module": "@jupyter-widgets/controls",
      "_model_module_version": "1.5.0",
      "_model_name": "FloatProgressModel",
      "_view_count": null,
      "_view_module": "@jupyter-widgets/controls",
      "_view_module_version": "1.5.0",
      "_view_name": "ProgressView",
      "bar_style": "success",
      "description": "",
      "description_tooltip": null,
      "layout": "IPY_MODEL_19d33cc37de247d5a50b47d791eda29f",
      "max": 21,
      "min": 0,
      "orientation": "horizontal",
      "style": "IPY_MODEL_458f37665c7f42179be3166812326475",
      "value": 21
     }
    }
   }
  }
 },
 "nbformat": 4,
 "nbformat_minor": 1
}
